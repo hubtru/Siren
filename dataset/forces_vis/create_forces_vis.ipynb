{
 "cells": [
  {
   "cell_type": "code",
   "execution_count": 1,
   "id": "e3296ee9-988a-4028-877a-54575a8bb8de",
   "metadata": {
    "id": "e3296ee9-988a-4028-877a-54575a8bb8de"
   },
   "outputs": [],
   "source": [
    "import os\n",
    "import re\n",
    "import scipy\n",
    "import scipy.io\n",
    "import numpy as np\n",
    "import matplotlib.pyplot as plt\n",
    "import matplotlib.ticker as mticker  \n",
    "from PIL import Image as img"
   ]
  },
  {
   "cell_type": "code",
   "execution_count": 2,
   "id": "FohKpFtK_pzm",
   "metadata": {
    "id": "FohKpFtK_pzm"
   },
   "outputs": [
    {
     "name": "stdout",
     "output_type": "stream",
     "text": [
      "['signals_4_modality.mat', 'create_forces_vis.ipynb']\n",
      "True\n"
     ]
    }
   ],
   "source": [
    "print(os.listdir('.'))\n",
    "print(os.path.isfile('./signals_4_modality.mat'))  # Should return True if file exists\n"
   ]
  },
  {
   "cell_type": "code",
   "execution_count": 3,
   "id": "9e3fcdd5-a673-473c-b5fe-661c31fce222",
   "metadata": {
    "id": "9e3fcdd5-a673-473c-b5fe-661c31fce222"
   },
   "outputs": [],
   "source": [
    "mat = scipy.io.loadmat('./signals_4_modality.mat')"
   ]
  },
  {
   "cell_type": "code",
   "execution_count": 4,
   "id": "c50c0abf-4635-4173-8708-df3d5fb8b38c",
   "metadata": {
    "colab": {
     "base_uri": "https://localhost:8080/"
    },
    "id": "c50c0abf-4635-4173-8708-df3d5fb8b38c",
    "outputId": "8b9a5fe4-d5b4-4711-c121-debf3e0051c3"
   },
   "outputs": [
    {
     "data": {
      "text/plain": [
       "97719"
      ]
     },
     "execution_count": 4,
     "metadata": {},
     "output_type": "execute_result"
    }
   ],
   "source": [
    "x = mat[\"baseDatastore\"][0][3][0]\n",
    "x.size"
   ]
  },
  {
   "cell_type": "code",
   "execution_count": 5,
   "id": "00e7d46d",
   "metadata": {},
   "outputs": [
    {
     "name": "stdout",
     "output_type": "stream",
     "text": [
      "['T1R2B4.jpg']\n",
      "['T2R1B4.jpg']\n",
      "['T3R1B4.jpg']\n",
      "['T4R1B4.jpg']\n",
      "['T5R1B4.jpg']\n",
      "['T6R1B4.jpg']\n",
      "['T7R1B4.jpg']\n",
      "['T8R1B4.jpg']\n",
      "['T9R1B4.jpg']\n",
      "['T10R1B4.jpg']\n"
     ]
    }
   ],
   "source": [
    "# split tools\n",
    "tools = [[] for _ in range(10)]\n",
    "for i in range(len(mat[\"baseDatastore\"])):\n",
    "    name = mat[\"baseDatastore\"][i][0][0]\n",
    "    u = re.findall(r\"\\d+\", name)\n",
    "    tools[int(u[0]) - 1].append(mat[\"baseDatastore\"][i])\n",
    "\n",
    "for i in range(10):\n",
    "    print(tools[i][3][0])"
   ]
  },
  {
   "cell_type": "code",
   "execution_count": 6,
   "id": "fca216a7",
   "metadata": {},
   "outputs": [],
   "source": [
    "# plot each tool\n",
    "for i in range(len(tools)):\n",
    "    f_x = np.array([])\n",
    "    f_y = np.array([])\n",
    "    f_z = np.array([])\n",
    "    for j in range(len(tools[i])):\n",
    "        f_x = np.append(f_x, tools[i][j][3][0])\n",
    "        f_y = np.append(f_y, tools[i][j][3][1])\n",
    "        f_z = np.append(f_z, tools[i][j][3][2])\n",
    "\n",
    "    f_x = f_x.flatten()\n",
    "    f_y = f_y.flatten()\n",
    "    f_z = f_z.flatten()\n",
    "\n",
    "\n",
    "    plt.plot(f_x)\n",
    "    plt.plot(f_y)\n",
    "    plt.plot(f_z)\n",
    "    plt.rc('axes', axisbelow=True)\n",
    "    plt.grid()\n",
    "    plt.title(f'T{i + 1}', fontsize=16, weight='bold')\n",
    "    plt.legend([\"Fx\", \"Fy\", \"Fz\"], loc=\"upper left\", title=\"Force\")\n",
    "    #plt.gca().yaxis.set_major_formatter(mticker.FormatStrFormatter('%d N'))\n",
    "    plt.xlabel('Data Point [1e6]', fontsize=12, weight='bold')\n",
    "    plt.ylabel('Force [N]', fontsize=12, weight='bold')\n",
    "    plt.savefig(f\"./forces_T{i+1}.pdf\")\n",
    "    plt.close()"
   ]
  },
  {
   "cell_type": "code",
   "execution_count": null,
   "id": "81b62d5d",
   "metadata": {},
   "outputs": [],
   "source": []
  }
 ],
 "metadata": {
  "colab": {
   "provenance": []
  },
  "kernelspec": {
   "display_name": "Python 3 (ipykernel)",
   "language": "python",
   "name": "python3"
  },
  "language_info": {
   "codemirror_mode": {
    "name": "ipython",
    "version": 3
   },
   "file_extension": ".py",
   "mimetype": "text/x-python",
   "name": "python",
   "nbconvert_exporter": "python",
   "pygments_lexer": "ipython3",
   "version": "3.9.17"
  }
 },
 "nbformat": 4,
 "nbformat_minor": 5
}
