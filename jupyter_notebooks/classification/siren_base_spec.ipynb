{
  "cells": [
    {
      "cell_type": "code",
      "execution_count": 1,
      "metadata": {
        "colab": {
          "base_uri": "https://localhost:8080/"
        },
        "id": "rRvCEahAjlbo",
        "outputId": "b956372a-1adb-4cef-9c85-cb10b6c43ac9"
      },
      "outputs": [
        {
          "name": "stdout",
          "output_type": "stream",
          "text": [
            "Collecting tensorflow_addons\n",
            "  Downloading tensorflow_addons-0.23.0-cp310-cp310-manylinux_2_17_x86_64.manylinux2014_x86_64.whl (611 kB)\n",
            "\u001b[2K     \u001b[90m━━━━━━━━━━━━━━━━━━━━━━━━━━━━━━━━━━━━━━━━\u001b[0m \u001b[32m611.8/611.8 kB\u001b[0m \u001b[31m4.6 MB/s\u001b[0m eta \u001b[36m0:00:00\u001b[0m\n",
            "\u001b[?25hRequirement already satisfied: packaging in /usr/local/lib/python3.10/dist-packages (from tensorflow_addons) (23.2)\n",
            "Collecting typeguard<3.0.0,>=2.7 (from tensorflow_addons)\n",
            "  Downloading typeguard-2.13.3-py3-none-any.whl (17 kB)\n",
            "Installing collected packages: typeguard, tensorflow_addons\n",
            "Successfully installed tensorflow_addons-0.23.0 typeguard-2.13.3\n",
            "Collecting keras-tuner\n",
            "  Downloading keras_tuner-1.4.6-py3-none-any.whl (128 kB)\n",
            "\u001b[2K     \u001b[90m━━━━━━━━━━━━━━━━━━━━━━━━━━━━━━━━━━━━━━━━\u001b[0m \u001b[32m128.9/128.9 kB\u001b[0m \u001b[31m2.3 MB/s\u001b[0m eta \u001b[36m0:00:00\u001b[0m\n",
            "\u001b[?25hRequirement already satisfied: keras in /usr/local/lib/python3.10/dist-packages (from keras-tuner) (2.15.0)\n",
            "Requirement already satisfied: packaging in /usr/local/lib/python3.10/dist-packages (from keras-tuner) (23.2)\n",
            "Requirement already satisfied: requests in /usr/local/lib/python3.10/dist-packages (from keras-tuner) (2.31.0)\n",
            "Collecting kt-legacy (from keras-tuner)\n",
            "  Downloading kt_legacy-1.0.5-py3-none-any.whl (9.6 kB)\n",
            "Requirement already satisfied: charset-normalizer<4,>=2 in /usr/local/lib/python3.10/dist-packages (from requests->keras-tuner) (3.3.2)\n",
            "Requirement already satisfied: idna<4,>=2.5 in /usr/local/lib/python3.10/dist-packages (from requests->keras-tuner) (3.6)\n",
            "Requirement already satisfied: urllib3<3,>=1.21.1 in /usr/local/lib/python3.10/dist-packages (from requests->keras-tuner) (2.0.7)\n",
            "Requirement already satisfied: certifi>=2017.4.17 in /usr/local/lib/python3.10/dist-packages (from requests->keras-tuner) (2023.11.17)\n",
            "Installing collected packages: kt-legacy, keras-tuner\n",
            "Successfully installed keras-tuner-1.4.6 kt-legacy-1.0.5\n",
            "Cloning into 'Siren'...\n",
            "remote: Enumerating objects: 313, done.\u001b[K\n",
            "remote: Counting objects: 100% (16/16), done.\u001b[K\n",
            "remote: Compressing objects: 100% (14/14), done.\u001b[K\n",
            "remote: Total 313 (delta 9), reused 7 (delta 2), pack-reused 297\u001b[K\n",
            "Receiving objects: 100% (313/313), 57.54 MiB | 28.80 MiB/s, done.\n",
            "Resolving deltas: 100% (81/81), done.\n"
          ]
        }
      ],
      "source": [
        "!pip install tensorflow_addons\n",
        "!pip install keras-tuner --upgrade\n",
        "\n",
        "# clone siren repository, refresh folder to see the siren repository\n",
        "# runtime -> change runtime -> choose a gpu/tpu\n",
        "!git clone https://github.com/hubtru/Siren/"
      ]
    },
    {
      "cell_type": "code",
      "execution_count": 2,
      "metadata": {
        "colab": {
          "base_uri": "https://localhost:8080/"
        },
        "id": "hjiZ1K4zjkwX",
        "outputId": "b19d2ef5-963b-46bd-8f01-350c10fa9afe"
      },
      "outputs": [
        {
          "name": "stderr",
          "output_type": "stream",
          "text": [
            "/usr/local/lib/python3.10/dist-packages/tensorflow_addons/utils/tfa_eol_msg.py:23: UserWarning: \n",
            "\n",
            "TensorFlow Addons (TFA) has ended development and introduction of new features.\n",
            "TFA has entered a minimal maintenance and release mode until a planned end of life in May 2024.\n",
            "Please modify downstream libraries to take dependencies from other repositories in our TensorFlow community (e.g. Keras, Keras-CV, and Keras-NLP). \n",
            "\n",
            "For more information see: https://github.com/tensorflow/addons/issues/2807 \n",
            "\n",
            "  warnings.warn(\n"
          ]
        }
      ],
      "source": [
        "import numpy as np\n",
        "import pandas as pd\n",
        "import tensorflow as tf\n",
        "import tensorflow_addons as tfa\n",
        "import matplotlib.pyplot as plt\n",
        "import seaborn as sns\n",
        "from tensorflow import keras as k\n",
        "from keras import layers\n",
        "from sklearn.model_selection import train_test_split\n",
        "import cv2\n",
        "import os\n",
        "os.environ[\"CUDA_VISIBLE_DEVICES\"]=\"1\""
      ]
    },
    {
      "cell_type": "code",
      "execution_count": 3,
      "metadata": {
        "colab": {
          "base_uri": "https://localhost:8080/"
        },
        "id": "yGpkAdeDjkwZ",
        "outputId": "ce006cea-9373-4706-9bc3-9504091feb5a"
      },
      "outputs": [
        {
          "name": "stdout",
          "output_type": "stream",
          "text": [
            "Num GPUs Available:  0\n",
            "GPUs:  []\n"
          ]
        }
      ],
      "source": [
        "# ============================== gpu info ==============================\n",
        "print(\"Num GPUs Available: \", len(tf.config.list_physical_devices(\"GPU\")))\n",
        "print(\"GPUs: \", tf.config.list_physical_devices(\"GPU\"))"
      ]
    },
    {
      "cell_type": "code",
      "execution_count": 4,
      "metadata": {
        "id": "LE7g1QlkjkwZ"
      },
      "outputs": [],
      "source": [
        "# ============================== variables ==============================\n",
        "# architecture\n",
        "image_size = 256\n",
        "filters = 256\n",
        "depth = 4\n",
        "columns = 4\n",
        "kernel_size = 5\n",
        "patch_size = 16\n",
        "num_classes = 3\n",
        "\n",
        "in_channel = 9\n",
        "img_rows, img_cols = image_size, image_size\n",
        "input_shape = (img_rows, img_cols, in_channel)\n",
        "\n",
        "learning_rate = 0.001\n",
        "weight_decay = 0.0001\n",
        "batch_size = 8\n",
        "epochs = 20"
      ]
    },
    {
      "cell_type": "code",
      "execution_count": 5,
      "metadata": {
        "id": "fluPHeqzjkwZ"
      },
      "outputs": [],
      "source": [
        "# ============================== paths ==============================\n",
        "# needed for generate_data\n",
        "modality = \"spec\"\n",
        "exp_name = f\"siren\"\n",
        "sub_exp_name = f\"base\"\n",
        "model_name = f\"{exp_name}_{sub_exp_name}_{modality}\"\n",
        "model_save_path = f\"{model_name}.h5\"\n",
        "\n",
        "# dataset\n",
        "csv_path = \"/content/Siren/dataset/labels_sample.csv\"\n",
        "spec_path = f\"/content/Siren/dataset/{modality}\""
      ]
    },
    {
      "cell_type": "code",
      "execution_count": 6,
      "metadata": {
        "colab": {
          "base_uri": "https://localhost:8080/"
        },
        "id": "vk-JBsC8jkwZ",
        "outputId": "6c1aa419-1cd1-4249-abd1-77d58a85c111"
      },
      "outputs": [
        {
          "name": "stdout",
          "output_type": "stream",
          "text": [
            "size check train/test/val 14 3 3 20\n"
          ]
        }
      ],
      "source": [
        "# ============================== load/prepare dataset ==============================\n",
        "df = pd.read_csv(csv_path)\n",
        "\n",
        "# RANDOM DATASET: we switch to toolbased\n",
        "# shuffle, need same state for tool/spec/chips/multi\n",
        "np.random.seed(55)\n",
        "df = df.iloc[np.random.permutation(len(df))]\n",
        "# train/test/val : 70/15/15\n",
        "train_df, test_df = train_test_split(df, test_size=0.3)\n",
        "test_df, val_df = train_test_split(test_df, test_size=0.5)\n",
        "\n",
        "print(\n",
        "    \"size check train/test/val\",\n",
        "    len(train_df),\n",
        "    len(test_df),\n",
        "    len(val_df),\n",
        "    (len(train_df) + len(test_df) + len(val_df)),\n",
        ")\n",
        "\n",
        "train_df[\"spec_x\"] = train_df.id.map(lambda id: f\"{spec_path}/x/{id}.jpg\")\n",
        "test_df[\"spec_x\"] = test_df.id.map(lambda id: f\"{spec_path}/x/{id}.jpg\")\n",
        "val_df[\"spec_x\"] = val_df.id.map(lambda id: f\"{spec_path}/x/{id}.jpg\")\n",
        "\n",
        "train_df[\"spec_y\"] = train_df.id.map(lambda id: f\"{spec_path}/y/{id}.jpg\")\n",
        "test_df[\"spec_y\"] = test_df.id.map(lambda id: f\"{spec_path}/y/{id}.jpg\")\n",
        "val_df[\"spec_y\"] = val_df.id.map(lambda id: f\"{spec_path}/y/{id}.jpg\")\n",
        "\n",
        "train_df[\"spec_z\"] = train_df.id.map(lambda id: f\"{spec_path}/z/{id}.jpg\")\n",
        "test_df[\"spec_z\"] = test_df.id.map(lambda id: f\"{spec_path}/z/{id}.jpg\")\n",
        "val_df[\"spec_z\"] = val_df.id.map(lambda id: f\"{spec_path}/z/{id}.jpg\")\n"
      ]
    },
    {
      "cell_type": "code",
      "execution_count": 7,
      "metadata": {
        "colab": {
          "base_uri": "https://localhost:8080/",
          "height": 546
        },
        "id": "X2Gprc3Pjkwa",
        "outputId": "8aadcfad-40a4-4730-d2eb-685962f3f1f0"
      },
      "outputs": [
        {
          "data": {
            "text/plain": [
              "<Figure size 600x600 with 0 Axes>"
            ]
          },
          "metadata": {},
          "output_type": "display_data"
        },
        {
          "data": {
            "image/png": "[encoded data removed]",
            "text/plain": [
              "<Figure size 500x500 with 1 Axes>"
            ]
          },
          "metadata": {},
          "output_type": "display_data"
        }
      ],
      "source": [
        "plt.figure(figsize=(6,6))\n",
        "sns.displot(train_df['tool_label'])\n",
        "plt.title('Label Distribution')\n",
        "plt.show()"
      ]
    },
    {
      "cell_type": "code",
      "execution_count": 8,
      "metadata": {
        "colab": {
          "base_uri": "https://localhost:8080/"
        },
        "id": "LHotnmSPjkwa",
        "outputId": "cf88d0f1-f85e-44a9-dbbc-a8ddb77ad66b"
      },
      "outputs": [
        {
          "name": "stdout",
          "output_type": "stream",
          "text": [
            "check if permutation is same on all models\n",
            "train_head          id image_label  tool_label  \\\n",
            "14   T8R3B4       sharp           1   \n",
            "10   T6R9B3        used           2   \n",
            "0    T1R2B1       sharp           1   \n",
            "3   T2R13B4      dulled           3   \n",
            "1    T1R7B4        used           2   \n",
            "\n",
            "                                       spec_x  \\\n",
            "14   /content/Siren/dataset/spec/x/T8R3B4.jpg   \n",
            "10   /content/Siren/dataset/spec/x/T6R9B3.jpg   \n",
            "0    /content/Siren/dataset/spec/x/T1R2B1.jpg   \n",
            "3   /content/Siren/dataset/spec/x/T2R13B4.jpg   \n",
            "1    /content/Siren/dataset/spec/x/T1R7B4.jpg   \n",
            "\n",
            "                                       spec_y  \\\n",
            "14   /content/Siren/dataset/spec/y/T8R3B4.jpg   \n",
            "10   /content/Siren/dataset/spec/y/T6R9B3.jpg   \n",
            "0    /content/Siren/dataset/spec/y/T1R2B1.jpg   \n",
            "3   /content/Siren/dataset/spec/y/T2R13B4.jpg   \n",
            "1    /content/Siren/dataset/spec/y/T1R7B4.jpg   \n",
            "\n",
            "                                       spec_z  \n",
            "14   /content/Siren/dataset/spec/z/T8R3B4.jpg  \n",
            "10   /content/Siren/dataset/spec/z/T6R9B3.jpg  \n",
            "0    /content/Siren/dataset/spec/z/T1R2B1.jpg  \n",
            "3   /content/Siren/dataset/spec/z/T2R13B4.jpg  \n",
            "1    /content/Siren/dataset/spec/z/T1R7B4.jpg  \n",
            "test_head          id image_label  tool_label  \\\n",
            "16   T9R7B4        used           2   \n",
            "18  T10R3B4       sharp           1   \n",
            "9   T5R12B1      dulled           3   \n",
            "\n",
            "                                       spec_x  \\\n",
            "16   /content/Siren/dataset/spec/x/T9R7B4.jpg   \n",
            "18  /content/Siren/dataset/spec/x/T10R3B4.jpg   \n",
            "9   /content/Siren/dataset/spec/x/T5R12B1.jpg   \n",
            "\n",
            "                                       spec_y  \\\n",
            "16   /content/Siren/dataset/spec/y/T9R7B4.jpg   \n",
            "18  /content/Siren/dataset/spec/y/T10R3B4.jpg   \n",
            "9   /content/Siren/dataset/spec/y/T5R12B1.jpg   \n",
            "\n",
            "                                       spec_z  \n",
            "16   /content/Siren/dataset/spec/z/T9R7B4.jpg  \n",
            "18  /content/Siren/dataset/spec/z/T10R3B4.jpg  \n",
            "9   /content/Siren/dataset/spec/z/T5R12B1.jpg  \n",
            "val_head          id image_label  tool_label  \\\n",
            "5   T3R10B1      dulled           3   \n",
            "13  T7R14B3      dulled           3   \n",
            "12   T7R8B3        used           2   \n",
            "\n",
            "                                       spec_x  \\\n",
            "5   /content/Siren/dataset/spec/x/T3R10B1.jpg   \n",
            "13  /content/Siren/dataset/spec/x/T7R14B3.jpg   \n",
            "12   /content/Siren/dataset/spec/x/T7R8B3.jpg   \n",
            "\n",
            "                                       spec_y  \\\n",
            "5   /content/Siren/dataset/spec/y/T3R10B1.jpg   \n",
            "13  /content/Siren/dataset/spec/y/T7R14B3.jpg   \n",
            "12   /content/Siren/dataset/spec/y/T7R8B3.jpg   \n",
            "\n",
            "                                       spec_z  \n",
            "5   /content/Siren/dataset/spec/z/T3R10B1.jpg  \n",
            "13  /content/Siren/dataset/spec/z/T7R14B3.jpg  \n",
            "12   /content/Siren/dataset/spec/z/T7R8B3.jpg  \n"
          ]
        }
      ],
      "source": [
        "print(\"check if permutation is same on all models\")\n",
        "print(\"train_head\", train_df.head())\n",
        "print(\"test_head\", test_df.head())\n",
        "print(\"val_head\", val_df.head())"
      ]
    },
    {
      "cell_type": "code",
      "execution_count": 9,
      "metadata": {
        "id": "Ck7iKQdZjkwa"
      },
      "outputs": [],
      "source": [
        "def read_specs(file_paths_x, file_paths_y, file_paths_z, img_rows, img_cols, channels):\n",
        "    \"\"\"\n",
        "    Reads the spectogram files from disk and normalizes the pixel values\n",
        "      @params:\n",
        "        file_paths - Array of file paths to read from\n",
        "        img_rows - The image height.\n",
        "        img_cols - The image width.\n",
        "        as_grey - Read the image as Greyscale or RGB.\n",
        "        channels - Number of channels.\n",
        "      @returns:\n",
        "        The created and compiled model (Model)\n",
        "    \"\"\"\n",
        "    images = []\n",
        "\n",
        "    for i in range(file_paths_x.size):\n",
        "        img_x = cv2.imread(file_paths_x[i])\n",
        "        res_x = cv2.resize(\n",
        "            img_x, dsize=(img_rows, img_cols), interpolation=cv2.INTER_CUBIC\n",
        "        )\n",
        "        images.append(res_x)\n",
        "        img_y = cv2.imread(file_paths_y[i])\n",
        "        res_y = cv2.resize(\n",
        "            img_y, dsize=(img_rows, img_cols), interpolation=cv2.INTER_CUBIC\n",
        "        )\n",
        "        images.append(res_y)\n",
        "        img_z = cv2.imread(file_paths_z[i])\n",
        "        res_z = cv2.resize(\n",
        "            img_z, dsize=(img_rows, img_cols), interpolation=cv2.INTER_CUBIC\n",
        "        )\n",
        "        images.append(res_z)\n",
        "\n",
        "    images = np.asarray(images, dtype=np.float32)\n",
        "\n",
        "    # normalize\n",
        "    images = images / np.max(images)\n",
        "\n",
        "    # reshape to match Keras expectaions\n",
        "    images = images.reshape(file_paths_x.shape[0], img_rows, img_cols, channels)\n",
        "\n",
        "    return images"
      ]
    },
    {
      "cell_type": "code",
      "execution_count": 10,
      "metadata": {
        "id": "Cvo3rvGujkwa"
      },
      "outputs": [],
      "source": [
        "x_train_spec = read_specs(\n",
        "    train_df.spec_x.values,\n",
        "    train_df.spec_y.values,\n",
        "    train_df.spec_z.values,\n",
        "    img_rows,\n",
        "    img_cols,\n",
        "    in_channel,\n",
        ")\n",
        "x_test_spec = read_specs(\n",
        "    test_df.spec_x.values,\n",
        "    test_df.spec_y.values,\n",
        "    test_df.spec_z.values,\n",
        "    img_rows,\n",
        "    img_cols,\n",
        "    in_channel,\n",
        ")\n",
        "x_val_spec = read_specs(\n",
        "    val_df.spec_x.values,\n",
        "    val_df.spec_y.values,\n",
        "    val_df.spec_z.values,\n",
        "    img_rows,\n",
        "    img_cols,\n",
        "    in_channel,\n",
        ")"
      ]
    },
    {
      "cell_type": "code",
      "execution_count": 11,
      "metadata": {
        "colab": {
          "base_uri": "https://localhost:8080/"
        },
        "id": "1uxEe7Vrjkwb",
        "outputId": "512fee0e-d316-4deb-e452-5c5929182f3a"
      },
      "outputs": [
        {
          "data": {
            "text/plain": [
              "(14, 256, 256, 9)"
            ]
          },
          "execution_count": 11,
          "metadata": {},
          "output_type": "execute_result"
        }
      ],
      "source": [
        "x_train_spec.shape"
      ]
    },
    {
      "cell_type": "code",
      "execution_count": 12,
      "metadata": {
        "colab": {
          "base_uri": "https://localhost:8080/"
        },
        "id": "MAos-kOLjkwb",
        "outputId": "c9823952-f098-4497-aa17-c64c7436b169"
      },
      "outputs": [
        {
          "data": {
            "text/plain": [
              "array([1, 2, 1, 3, 2, 2, 3, 2, 1, 1, 3, 1, 2, 3])"
            ]
          },
          "execution_count": 12,
          "metadata": {},
          "output_type": "execute_result"
        }
      ],
      "source": [
        "labels_train = train_df.tool_label.values\n",
        "labels_test = test_df.tool_label.values\n",
        "labels_val = val_df.tool_label.values\n",
        "\n",
        "labels_train"
      ]
    },
    {
      "cell_type": "code",
      "execution_count": 13,
      "metadata": {
        "id": "o7BITZAzjkwb"
      },
      "outputs": [],
      "source": [
        "labels_train = labels_train - 1\n",
        "labels_test = labels_test - 1\n",
        "labels_val = labels_val - 1\n",
        "\n",
        "labels_train = tf.keras.utils.to_categorical(\n",
        "    labels_train, num_classes=num_classes, dtype=\"float32\"\n",
        ")\n",
        "labels_test = tf.keras.utils.to_categorical(\n",
        "    labels_test, num_classes=num_classes, dtype=\"float32\"\n",
        ")\n",
        "labels_val = tf.keras.utils.to_categorical(\n",
        "    labels_val, num_classes=num_classes, dtype=\"float32\"\n",
        ")"
      ]
    },
    {
      "cell_type": "code",
      "execution_count": 14,
      "metadata": {
        "id": "sx1BmWXjjkwb"
      },
      "outputs": [],
      "source": [
        "train_dataset = tf.data.Dataset.from_tensor_slices((x_train_spec, labels_train))\n",
        "test_dataset = tf.data.Dataset.from_tensor_slices((x_test_spec, labels_test))\n",
        "val_dataset = tf.data.Dataset.from_tensor_slices((x_val_spec, labels_val))"
      ]
    },
    {
      "cell_type": "code",
      "execution_count": 15,
      "metadata": {
        "id": "RGWFnkdljkwb"
      },
      "outputs": [],
      "source": [
        "# ============================== augment ==============================\n",
        "auto = tf.data.AUTOTUNE\n",
        "\n",
        "data_augmentation = k.Sequential(\n",
        "    [\n",
        "        k.layers.RandomBrightness(factor=(-0.2, 0.2), value_range=(0, 1)),\n",
        "        k.layers.RandomContrast(factor=0.2),\n",
        "        k.layers.GaussianNoise(stddev=0.2),\n",
        "    ],\n",
        "    name=\"data_augmentation\",\n",
        ")"
      ]
    },
    {
      "cell_type": "code",
      "execution_count": 16,
      "metadata": {
        "id": "CSBGXevCjkwc"
      },
      "outputs": [],
      "source": [
        "def generate_datasets(images, is_train=False, shuffle=False):\n",
        "    dataset = images\n",
        "    if shuffle:\n",
        "        dataset = dataset.shuffle(batch_size * 10)\n",
        "    dataset = dataset.batch(batch_size)\n",
        "    if is_train:\n",
        "        dataset = dataset.map(\n",
        "            lambda x, y: (data_augmentation(x), y), num_parallel_calls=auto\n",
        "        )\n",
        "    return dataset.prefetch(auto)"
      ]
    },
    {
      "cell_type": "code",
      "execution_count": 17,
      "metadata": {
        "id": "gNZ5v6DVjkwc"
      },
      "outputs": [],
      "source": [
        "train_ds = generate_datasets(train_dataset, is_train=True, shuffle=True)\n",
        "val_ds = generate_datasets(val_dataset)\n",
        "test_ds = generate_datasets(test_dataset)"
      ]
    },
    {
      "cell_type": "code",
      "execution_count": 18,
      "metadata": {
        "colab": {
          "base_uri": "https://localhost:8080/"
        },
        "id": "4XXRoZXjjkwc",
        "outputId": "105f419d-f90f-48b6-8cc5-e3cdfc50e0e5"
      },
      "outputs": [
        {
          "data": {
            "text/plain": [
              "<_PrefetchDataset element_spec=(TensorSpec(shape=(None, 256, 256, 9), dtype=tf.float32, name=None), TensorSpec(shape=(None, 3), dtype=tf.float32, name=None))>"
            ]
          },
          "execution_count": 18,
          "metadata": {},
          "output_type": "execute_result"
        }
      ],
      "source": [
        "train_ds"
      ]
    },
    {
      "cell_type": "code",
      "execution_count": 19,
      "metadata": {
        "id": "u6ZMEp1Ljkwc"
      },
      "outputs": [],
      "source": [
        "#Functions\n",
        "#Reversed Column implementation of Truchan (2023). Minape: Multimodal Isotropic Neural Architecture with Patch Embedding.\n",
        "#https://github.com/hubtru/minape\n",
        "def activation_module(x):\n",
        "    x = layers.Activation(\"gelu\")(x)\n",
        "    return layers.BatchNormalization()(x)\n",
        "\n",
        "\n",
        "def base_module(x, filters: int, patch_size: int):\n",
        "    x = layers.Conv2D(filters, kernel_size=patch_size, strides=patch_size)(x)\n",
        "    return activation_module(x)\n",
        "\n",
        "\n",
        "def depth_point_module(\n",
        "    x, pe_block, column, level, depth, r_arr, filters: int, kernel_size: int\n",
        "):\n",
        "    if column == 0:\n",
        "        # Depthwise convolution.\n",
        "        x0 = x\n",
        "        x = layers.DepthwiseConv2D(kernel_size=kernel_size, padding=\"same\")(x)\n",
        "        x = layers.Add()([activation_module(x), x0])  # Residual.\n",
        "\n",
        "        # Pointwise convolution.\n",
        "        x = layers.Conv2D(filters, kernel_size=1)(x)\n",
        "        x = activation_module(x)\n",
        "\n",
        "        r_arr = reverasable_output_array(x, r_arr, column, level)\n",
        "        return x, r_arr\n",
        "    else:\n",
        "        if level == 0:\n",
        "            x0 = fusion_block_double(r_arr[column - 1][level + 1], pe_block)\n",
        "        elif level < len(r_arr[0]) - 1 and level != 0:\n",
        "            x0 = fusion_block_double(r_arr[column - 1][level + 1], x)\n",
        "        else:\n",
        "            x0 = x\n",
        "        x = layers.DepthwiseConv2D(kernel_size=kernel_size, padding=\"same\")(x0)\n",
        "        x = layers.Add()([activation_module(x), x0])  # Residual.\n",
        "\n",
        "        # Pointwise convolution.\n",
        "        x = layers.Conv2D(filters, kernel_size=1)(x)\n",
        "        x = activation_module(x)\n",
        "\n",
        "        if column != 0:\n",
        "            x = fusion_block_double(r_arr[column - 1][level], x)\n",
        "\n",
        "        r_arr = reverasable_output_array(x, r_arr, column, level)\n",
        "\n",
        "        return x, r_arr\n",
        "\n",
        "\n",
        "def fusion_block_double(x, y):\n",
        "    return layers.Add()([x, y])\n",
        "\n",
        "\n",
        "def reverasable_output_array(x, r_arr, column, level):\n",
        "    r_arr[column][level] = x\n",
        "    return r_arr\n",
        "\n",
        "\n",
        "def load_siren(\n",
        "    image_size=image_size,\n",
        "    filters=filters,\n",
        "    depth=depth,\n",
        "    columns=columns,\n",
        "    kernel_size=kernel_size,\n",
        "    patch_size=patch_size,\n",
        "    num_classes=num_classes,\n",
        "):\n",
        "    r_arr = [[None for _ in range(depth)] for _ in range(columns)]\n",
        "\n",
        "    inputs = k.Input(input_shape)\n",
        "    # x = layers.Rescaling(scale=1.0 / 255)(inputs)         # already rescaled\n",
        "\n",
        "    # Extract patch embeddings.\n",
        "    x = base_module(inputs, filters, patch_size)\n",
        "    pe_block = x\n",
        "\n",
        "    # Siren blocks.\n",
        "    for column in range(columns):\n",
        "        for level in range(depth):\n",
        "            x, r_arr = depth_point_module(\n",
        "                x, pe_block, column, level, depth, r_arr, filters, kernel_size\n",
        "            )\n",
        "\n",
        "    # Classification block.\n",
        "    x = layers.GlobalAvgPool2D()(x)\n",
        "    outputs = layers.Dense(num_classes, activation=\"softmax\")(x)\n",
        "\n",
        "    return k.Model(inputs, outputs)"
      ]
    },
    {
      "cell_type": "code",
      "execution_count": 20,
      "metadata": {
        "id": "7lXmtaJcjkwc"
      },
      "outputs": [],
      "source": [
        "def launch_experiment(model):\n",
        "    optimizer = tfa.optimizers.AdamW(\n",
        "        learning_rate=learning_rate, weight_decay=weight_decay\n",
        "    )\n",
        "\n",
        "    model.compile(\n",
        "        optimizer=optimizer,\n",
        "        loss=\"categorical_crossentropy\",\n",
        "        metrics=[\"accuracy\"],\n",
        "    )\n",
        "\n",
        "    history = model.fit(\n",
        "        train_ds,\n",
        "        validation_data=val_ds,\n",
        "        epochs=epochs,\n",
        "    )\n",
        "\n",
        "    _, accuracy = model.evaluate(test_ds)\n",
        "    print(f\"Test accuracy: {round(accuracy * 100, 2)}%\")\n",
        "\n",
        "    return history, model"
      ]
    },
    {
      "cell_type": "code",
      "execution_count": 21,
      "metadata": {
        "colab": {
          "base_uri": "https://localhost:8080/"
        },
        "id": "pQVewFQ-jkwd",
        "outputId": "72982b32-9221-40b1-843e-122445c68298"
      },
      "outputs": [
        {
          "name": "stdout",
          "output_type": "stream",
          "text": [
            "Model: \"model\"\n",
            "__________________________________________________________________________________________________\n",
            " Layer (type)                Output Shape                 Param #   Connected to                  \n",
            "==================================================================================================\n",
            " input_1 (InputLayer)        [(None, 256, 256, 9)]        0         []                            \n",
            "                                                                                                  \n",
            " conv2d (Conv2D)             (None, 16, 16, 256)          590080    ['input_1[0][0]']             \n",
            "                                                                                                  \n",
            " activation (Activation)     (None, 16, 16, 256)          0         ['conv2d[0][0]']              \n",
            "                                                                                                  \n",
            " batch_normalization (Batch  (None, 16, 16, 256)          1024      ['activation[0][0]']          \n",
            " Normalization)                                                                                   \n",
            "                                                                                                  \n",
            " depthwise_conv2d (Depthwis  (None, 16, 16, 256)          6656      ['batch_normalization[0][0]'] \n",
            " eConv2D)                                                                                         \n",
            "                                                                                                  \n",
            " activation_1 (Activation)   (None, 16, 16, 256)          0         ['depthwise_conv2d[0][0]']    \n",
            "                                                                                                  \n",
            " batch_normalization_1 (Bat  (None, 16, 16, 256)          1024      ['activation_1[0][0]']        \n",
            " chNormalization)                                                                                 \n",
            "                                                                                                  \n",
            " add (Add)                   (None, 16, 16, 256)          0         ['batch_normalization_1[0][0]'\n",
            "                                                                    , 'batch_normalization[0][0]']\n",
            "                                                                                                  \n",
            " conv2d_1 (Conv2D)           (None, 16, 16, 256)          65792     ['add[0][0]']                 \n",
            "                                                                                                  \n",
            " activation_2 (Activation)   (None, 16, 16, 256)          0         ['conv2d_1[0][0]']            \n",
            "                                                                                                  \n",
            " batch_normalization_2 (Bat  (None, 16, 16, 256)          1024      ['activation_2[0][0]']        \n",
            " chNormalization)                                                                                 \n",
            "                                                                                                  \n",
            " depthwise_conv2d_1 (Depthw  (None, 16, 16, 256)          6656      ['batch_normalization_2[0][0]'\n",
            " iseConv2D)                                                         ]                             \n",
            "                                                                                                  \n",
            " activation_3 (Activation)   (None, 16, 16, 256)          0         ['depthwise_conv2d_1[0][0]']  \n",
            "                                                                                                  \n",
            " batch_normalization_3 (Bat  (None, 16, 16, 256)          1024      ['activation_3[0][0]']        \n",
            " chNormalization)                                                                                 \n",
            "                                                                                                  \n",
            " add_1 (Add)                 (None, 16, 16, 256)          0         ['batch_normalization_3[0][0]'\n",
            "                                                                    , 'batch_normalization_2[0][0]\n",
            "                                                                    ']                            \n",
            "                                                                                                  \n",
            " conv2d_2 (Conv2D)           (None, 16, 16, 256)          65792     ['add_1[0][0]']               \n",
            "                                                                                                  \n",
            " activation_4 (Activation)   (None, 16, 16, 256)          0         ['conv2d_2[0][0]']            \n",
            "                                                                                                  \n",
            " batch_normalization_4 (Bat  (None, 16, 16, 256)          1024      ['activation_4[0][0]']        \n",
            " chNormalization)                                                                                 \n",
            "                                                                                                  \n",
            " add_4 (Add)                 (None, 16, 16, 256)          0         ['batch_normalization_4[0][0]'\n",
            "                                                                    , 'batch_normalization[0][0]']\n",
            "                                                                                                  \n",
            " depthwise_conv2d_4 (Depthw  (None, 16, 16, 256)          6656      ['add_4[0][0]']               \n",
            " iseConv2D)                                                                                       \n",
            "                                                                                                  \n",
            " depthwise_conv2d_2 (Depthw  (None, 16, 16, 256)          6656      ['batch_normalization_4[0][0]'\n",
            " iseConv2D)                                                         ]                             \n",
            "                                                                                                  \n",
            " activation_9 (Activation)   (None, 16, 16, 256)          0         ['depthwise_conv2d_4[0][0]']  \n",
            "                                                                                                  \n",
            " activation_5 (Activation)   (None, 16, 16, 256)          0         ['depthwise_conv2d_2[0][0]']  \n",
            "                                                                                                  \n",
            " batch_normalization_9 (Bat  (None, 16, 16, 256)          1024      ['activation_9[0][0]']        \n",
            " chNormalization)                                                                                 \n",
            "                                                                                                  \n",
            " batch_normalization_5 (Bat  (None, 16, 16, 256)          1024      ['activation_5[0][0]']        \n",
            " chNormalization)                                                                                 \n",
            "                                                                                                  \n",
            " add_5 (Add)                 (None, 16, 16, 256)          0         ['batch_normalization_9[0][0]'\n",
            "                                                                    , 'add_4[0][0]']              \n",
            "                                                                                                  \n",
            " add_2 (Add)                 (None, 16, 16, 256)          0         ['batch_normalization_5[0][0]'\n",
            "                                                                    , 'batch_normalization_4[0][0]\n",
            "                                                                    ']                            \n",
            "                                                                                                  \n",
            " conv2d_5 (Conv2D)           (None, 16, 16, 256)          65792     ['add_5[0][0]']               \n",
            "                                                                                                  \n",
            " conv2d_3 (Conv2D)           (None, 16, 16, 256)          65792     ['add_2[0][0]']               \n",
            "                                                                                                  \n",
            " activation_10 (Activation)  (None, 16, 16, 256)          0         ['conv2d_5[0][0]']            \n",
            "                                                                                                  \n",
            " activation_6 (Activation)   (None, 16, 16, 256)          0         ['conv2d_3[0][0]']            \n",
            "                                                                                                  \n",
            " batch_normalization_10 (Ba  (None, 16, 16, 256)          1024      ['activation_10[0][0]']       \n",
            " tchNormalization)                                                                                \n",
            "                                                                                                  \n",
            " batch_normalization_6 (Bat  (None, 16, 16, 256)          1024      ['activation_6[0][0]']        \n",
            " chNormalization)                                                                                 \n",
            "                                                                                                  \n",
            " add_6 (Add)                 (None, 16, 16, 256)          0         ['batch_normalization_2[0][0]'\n",
            "                                                                    , 'batch_normalization_10[0][0\n",
            "                                                                    ]']                           \n",
            "                                                                                                  \n",
            " add_7 (Add)                 (None, 16, 16, 256)          0         ['batch_normalization_6[0][0]'\n",
            "                                                                    , 'add_6[0][0]']              \n",
            "                                                                                                  \n",
            " depthwise_conv2d_5 (Depthw  (None, 16, 16, 256)          6656      ['add_7[0][0]']               \n",
            " iseConv2D)                                                                                       \n",
            "                                                                                                  \n",
            " depthwise_conv2d_3 (Depthw  (None, 16, 16, 256)          6656      ['batch_normalization_6[0][0]'\n",
            " iseConv2D)                                                         ]                             \n",
            "                                                                                                  \n",
            " activation_11 (Activation)  (None, 16, 16, 256)          0         ['depthwise_conv2d_5[0][0]']  \n",
            "                                                                                                  \n",
            " activation_7 (Activation)   (None, 16, 16, 256)          0         ['depthwise_conv2d_3[0][0]']  \n",
            "                                                                                                  \n",
            " batch_normalization_11 (Ba  (None, 16, 16, 256)          1024      ['activation_11[0][0]']       \n",
            " tchNormalization)                                                                                \n",
            "                                                                                                  \n",
            " batch_normalization_7 (Bat  (None, 16, 16, 256)          1024      ['activation_7[0][0]']        \n",
            " chNormalization)                                                                                 \n",
            "                                                                                                  \n",
            " add_8 (Add)                 (None, 16, 16, 256)          0         ['batch_normalization_11[0][0]\n",
            "                                                                    ',                            \n",
            "                                                                     'add_7[0][0]']               \n",
            "                                                                                                  \n",
            " add_3 (Add)                 (None, 16, 16, 256)          0         ['batch_normalization_7[0][0]'\n",
            "                                                                    , 'batch_normalization_6[0][0]\n",
            "                                                                    ']                            \n",
            "                                                                                                  \n",
            " conv2d_6 (Conv2D)           (None, 16, 16, 256)          65792     ['add_8[0][0]']               \n",
            "                                                                                                  \n",
            " conv2d_4 (Conv2D)           (None, 16, 16, 256)          65792     ['add_3[0][0]']               \n",
            "                                                                                                  \n",
            " activation_12 (Activation)  (None, 16, 16, 256)          0         ['conv2d_6[0][0]']            \n",
            "                                                                                                  \n",
            " activation_8 (Activation)   (None, 16, 16, 256)          0         ['conv2d_4[0][0]']            \n",
            "                                                                                                  \n",
            " batch_normalization_12 (Ba  (None, 16, 16, 256)          1024      ['activation_12[0][0]']       \n",
            " tchNormalization)                                                                                \n",
            "                                                                                                  \n",
            " batch_normalization_8 (Bat  (None, 16, 16, 256)          1024      ['activation_8[0][0]']        \n",
            " chNormalization)                                                                                 \n",
            "                                                                                                  \n",
            " add_9 (Add)                 (None, 16, 16, 256)          0         ['batch_normalization_4[0][0]'\n",
            "                                                                    , 'batch_normalization_12[0][0\n",
            "                                                                    ]']                           \n",
            "                                                                                                  \n",
            " add_10 (Add)                (None, 16, 16, 256)          0         ['batch_normalization_8[0][0]'\n",
            "                                                                    , 'add_9[0][0]']              \n",
            "                                                                                                  \n",
            " add_15 (Add)                (None, 16, 16, 256)          0         ['add_9[0][0]',               \n",
            "                                                                     'batch_normalization[0][0]'] \n",
            "                                                                                                  \n",
            " depthwise_conv2d_6 (Depthw  (None, 16, 16, 256)          6656      ['add_10[0][0]']              \n",
            " iseConv2D)                                                                                       \n",
            "                                                                                                  \n",
            " depthwise_conv2d_8 (Depthw  (None, 16, 16, 256)          6656      ['add_15[0][0]']              \n",
            " iseConv2D)                                                                                       \n",
            "                                                                                                  \n",
            " activation_13 (Activation)  (None, 16, 16, 256)          0         ['depthwise_conv2d_6[0][0]']  \n",
            "                                                                                                  \n",
            " activation_17 (Activation)  (None, 16, 16, 256)          0         ['depthwise_conv2d_8[0][0]']  \n",
            "                                                                                                  \n",
            " batch_normalization_13 (Ba  (None, 16, 16, 256)          1024      ['activation_13[0][0]']       \n",
            " tchNormalization)                                                                                \n",
            "                                                                                                  \n",
            " batch_normalization_17 (Ba  (None, 16, 16, 256)          1024      ['activation_17[0][0]']       \n",
            " tchNormalization)                                                                                \n",
            "                                                                                                  \n",
            " add_11 (Add)                (None, 16, 16, 256)          0         ['batch_normalization_13[0][0]\n",
            "                                                                    ',                            \n",
            "                                                                     'add_10[0][0]']              \n",
            "                                                                                                  \n",
            " add_16 (Add)                (None, 16, 16, 256)          0         ['batch_normalization_17[0][0]\n",
            "                                                                    ',                            \n",
            "                                                                     'add_15[0][0]']              \n",
            "                                                                                                  \n",
            " conv2d_7 (Conv2D)           (None, 16, 16, 256)          65792     ['add_11[0][0]']              \n",
            "                                                                                                  \n",
            " conv2d_9 (Conv2D)           (None, 16, 16, 256)          65792     ['add_16[0][0]']              \n",
            "                                                                                                  \n",
            " activation_14 (Activation)  (None, 16, 16, 256)          0         ['conv2d_7[0][0]']            \n",
            "                                                                                                  \n",
            " activation_18 (Activation)  (None, 16, 16, 256)          0         ['conv2d_9[0][0]']            \n",
            "                                                                                                  \n",
            " batch_normalization_14 (Ba  (None, 16, 16, 256)          1024      ['activation_14[0][0]']       \n",
            " tchNormalization)                                                                                \n",
            "                                                                                                  \n",
            " batch_normalization_18 (Ba  (None, 16, 16, 256)          1024      ['activation_18[0][0]']       \n",
            " tchNormalization)                                                                                \n",
            "                                                                                                  \n",
            " add_12 (Add)                (None, 16, 16, 256)          0         ['batch_normalization_6[0][0]'\n",
            "                                                                    , 'batch_normalization_14[0][0\n",
            "                                                                    ]']                           \n",
            "                                                                                                  \n",
            " add_17 (Add)                (None, 16, 16, 256)          0         ['add_6[0][0]',               \n",
            "                                                                     'batch_normalization_18[0][0]\n",
            "                                                                    ']                            \n",
            "                                                                                                  \n",
            " add_18 (Add)                (None, 16, 16, 256)          0         ['add_12[0][0]',              \n",
            "                                                                     'add_17[0][0]']              \n",
            "                                                                                                  \n",
            " depthwise_conv2d_7 (Depthw  (None, 16, 16, 256)          6656      ['add_12[0][0]']              \n",
            " iseConv2D)                                                                                       \n",
            "                                                                                                  \n",
            " depthwise_conv2d_9 (Depthw  (None, 16, 16, 256)          6656      ['add_18[0][0]']              \n",
            " iseConv2D)                                                                                       \n",
            "                                                                                                  \n",
            " activation_15 (Activation)  (None, 16, 16, 256)          0         ['depthwise_conv2d_7[0][0]']  \n",
            "                                                                                                  \n",
            " activation_19 (Activation)  (None, 16, 16, 256)          0         ['depthwise_conv2d_9[0][0]']  \n",
            "                                                                                                  \n",
            " batch_normalization_15 (Ba  (None, 16, 16, 256)          1024      ['activation_15[0][0]']       \n",
            " tchNormalization)                                                                                \n",
            "                                                                                                  \n",
            " batch_normalization_19 (Ba  (None, 16, 16, 256)          1024      ['activation_19[0][0]']       \n",
            " tchNormalization)                                                                                \n",
            "                                                                                                  \n",
            " add_13 (Add)                (None, 16, 16, 256)          0         ['batch_normalization_15[0][0]\n",
            "                                                                    ',                            \n",
            "                                                                     'add_12[0][0]']              \n",
            "                                                                                                  \n",
            " add_19 (Add)                (None, 16, 16, 256)          0         ['batch_normalization_19[0][0]\n",
            "                                                                    ',                            \n",
            "                                                                     'add_18[0][0]']              \n",
            "                                                                                                  \n",
            " conv2d_8 (Conv2D)           (None, 16, 16, 256)          65792     ['add_13[0][0]']              \n",
            "                                                                                                  \n",
            " conv2d_10 (Conv2D)          (None, 16, 16, 256)          65792     ['add_19[0][0]']              \n",
            "                                                                                                  \n",
            " activation_16 (Activation)  (None, 16, 16, 256)          0         ['conv2d_8[0][0]']            \n",
            "                                                                                                  \n",
            " activation_20 (Activation)  (None, 16, 16, 256)          0         ['conv2d_10[0][0]']           \n",
            "                                                                                                  \n",
            " batch_normalization_16 (Ba  (None, 16, 16, 256)          1024      ['activation_16[0][0]']       \n",
            " tchNormalization)                                                                                \n",
            "                                                                                                  \n",
            " batch_normalization_20 (Ba  (None, 16, 16, 256)          1024      ['activation_20[0][0]']       \n",
            " tchNormalization)                                                                                \n",
            "                                                                                                  \n",
            " add_14 (Add)                (None, 16, 16, 256)          0         ['batch_normalization_8[0][0]'\n",
            "                                                                    , 'batch_normalization_16[0][0\n",
            "                                                                    ]']                           \n",
            "                                                                                                  \n",
            " add_20 (Add)                (None, 16, 16, 256)          0         ['add_9[0][0]',               \n",
            "                                                                     'batch_normalization_20[0][0]\n",
            "                                                                    ']                            \n",
            "                                                                                                  \n",
            " add_21 (Add)                (None, 16, 16, 256)          0         ['add_14[0][0]',              \n",
            "                                                                     'add_20[0][0]']              \n",
            "                                                                                                  \n",
            " add_26 (Add)                (None, 16, 16, 256)          0         ['add_20[0][0]',              \n",
            "                                                                     'batch_normalization[0][0]'] \n",
            "                                                                                                  \n",
            " depthwise_conv2d_10 (Depth  (None, 16, 16, 256)          6656      ['add_21[0][0]']              \n",
            " wiseConv2D)                                                                                      \n",
            "                                                                                                  \n",
            " depthwise_conv2d_12 (Depth  (None, 16, 16, 256)          6656      ['add_26[0][0]']              \n",
            " wiseConv2D)                                                                                      \n",
            "                                                                                                  \n",
            " activation_21 (Activation)  (None, 16, 16, 256)          0         ['depthwise_conv2d_10[0][0]'] \n",
            "                                                                                                  \n",
            " activation_25 (Activation)  (None, 16, 16, 256)          0         ['depthwise_conv2d_12[0][0]'] \n",
            "                                                                                                  \n",
            " batch_normalization_21 (Ba  (None, 16, 16, 256)          1024      ['activation_21[0][0]']       \n",
            " tchNormalization)                                                                                \n",
            "                                                                                                  \n",
            " batch_normalization_25 (Ba  (None, 16, 16, 256)          1024      ['activation_25[0][0]']       \n",
            " tchNormalization)                                                                                \n",
            "                                                                                                  \n",
            " add_22 (Add)                (None, 16, 16, 256)          0         ['batch_normalization_21[0][0]\n",
            "                                                                    ',                            \n",
            "                                                                     'add_21[0][0]']              \n",
            "                                                                                                  \n",
            " add_27 (Add)                (None, 16, 16, 256)          0         ['batch_normalization_25[0][0]\n",
            "                                                                    ',                            \n",
            "                                                                     'add_26[0][0]']              \n",
            "                                                                                                  \n",
            " conv2d_11 (Conv2D)          (None, 16, 16, 256)          65792     ['add_22[0][0]']              \n",
            "                                                                                                  \n",
            " conv2d_13 (Conv2D)          (None, 16, 16, 256)          65792     ['add_27[0][0]']              \n",
            "                                                                                                  \n",
            " activation_22 (Activation)  (None, 16, 16, 256)          0         ['conv2d_11[0][0]']           \n",
            "                                                                                                  \n",
            " activation_26 (Activation)  (None, 16, 16, 256)          0         ['conv2d_13[0][0]']           \n",
            "                                                                                                  \n",
            " batch_normalization_22 (Ba  (None, 16, 16, 256)          1024      ['activation_22[0][0]']       \n",
            " tchNormalization)                                                                                \n",
            "                                                                                                  \n",
            " batch_normalization_26 (Ba  (None, 16, 16, 256)          1024      ['activation_26[0][0]']       \n",
            " tchNormalization)                                                                                \n",
            "                                                                                                  \n",
            " add_23 (Add)                (None, 16, 16, 256)          0         ['add_12[0][0]',              \n",
            "                                                                     'batch_normalization_22[0][0]\n",
            "                                                                    ']                            \n",
            "                                                                                                  \n",
            " add_28 (Add)                (None, 16, 16, 256)          0         ['add_17[0][0]',              \n",
            "                                                                     'batch_normalization_26[0][0]\n",
            "                                                                    ']                            \n",
            "                                                                                                  \n",
            " add_29 (Add)                (None, 16, 16, 256)          0         ['add_23[0][0]',              \n",
            "                                                                     'add_28[0][0]']              \n",
            "                                                                                                  \n",
            " depthwise_conv2d_11 (Depth  (None, 16, 16, 256)          6656      ['add_23[0][0]']              \n",
            " wiseConv2D)                                                                                      \n",
            "                                                                                                  \n",
            " depthwise_conv2d_13 (Depth  (None, 16, 16, 256)          6656      ['add_29[0][0]']              \n",
            " wiseConv2D)                                                                                      \n",
            "                                                                                                  \n",
            " activation_23 (Activation)  (None, 16, 16, 256)          0         ['depthwise_conv2d_11[0][0]'] \n",
            "                                                                                                  \n",
            " activation_27 (Activation)  (None, 16, 16, 256)          0         ['depthwise_conv2d_13[0][0]'] \n",
            "                                                                                                  \n",
            " batch_normalization_23 (Ba  (None, 16, 16, 256)          1024      ['activation_23[0][0]']       \n",
            " tchNormalization)                                                                                \n",
            "                                                                                                  \n",
            " batch_normalization_27 (Ba  (None, 16, 16, 256)          1024      ['activation_27[0][0]']       \n",
            " tchNormalization)                                                                                \n",
            "                                                                                                  \n",
            " add_24 (Add)                (None, 16, 16, 256)          0         ['batch_normalization_23[0][0]\n",
            "                                                                    ',                            \n",
            "                                                                     'add_23[0][0]']              \n",
            "                                                                                                  \n",
            " add_30 (Add)                (None, 16, 16, 256)          0         ['batch_normalization_27[0][0]\n",
            "                                                                    ',                            \n",
            "                                                                     'add_29[0][0]']              \n",
            "                                                                                                  \n",
            " conv2d_12 (Conv2D)          (None, 16, 16, 256)          65792     ['add_24[0][0]']              \n",
            "                                                                                                  \n",
            " conv2d_14 (Conv2D)          (None, 16, 16, 256)          65792     ['add_30[0][0]']              \n",
            "                                                                                                  \n",
            " activation_24 (Activation)  (None, 16, 16, 256)          0         ['conv2d_12[0][0]']           \n",
            "                                                                                                  \n",
            " activation_28 (Activation)  (None, 16, 16, 256)          0         ['conv2d_14[0][0]']           \n",
            "                                                                                                  \n",
            " batch_normalization_24 (Ba  (None, 16, 16, 256)          1024      ['activation_24[0][0]']       \n",
            " tchNormalization)                                                                                \n",
            "                                                                                                  \n",
            " batch_normalization_28 (Ba  (None, 16, 16, 256)          1024      ['activation_28[0][0]']       \n",
            " tchNormalization)                                                                                \n",
            "                                                                                                  \n",
            " add_25 (Add)                (None, 16, 16, 256)          0         ['add_14[0][0]',              \n",
            "                                                                     'batch_normalization_24[0][0]\n",
            "                                                                    ']                            \n",
            "                                                                                                  \n",
            " add_31 (Add)                (None, 16, 16, 256)          0         ['add_20[0][0]',              \n",
            "                                                                     'batch_normalization_28[0][0]\n",
            "                                                                    ']                            \n",
            "                                                                                                  \n",
            " add_32 (Add)                (None, 16, 16, 256)          0         ['add_25[0][0]',              \n",
            "                                                                     'add_31[0][0]']              \n",
            "                                                                                                  \n",
            " depthwise_conv2d_14 (Depth  (None, 16, 16, 256)          6656      ['add_32[0][0]']              \n",
            " wiseConv2D)                                                                                      \n",
            "                                                                                                  \n",
            " activation_29 (Activation)  (None, 16, 16, 256)          0         ['depthwise_conv2d_14[0][0]'] \n",
            "                                                                                                  \n",
            " batch_normalization_29 (Ba  (None, 16, 16, 256)          1024      ['activation_29[0][0]']       \n",
            " tchNormalization)                                                                                \n",
            "                                                                                                  \n",
            " add_33 (Add)                (None, 16, 16, 256)          0         ['batch_normalization_29[0][0]\n",
            "                                                                    ',                            \n",
            "                                                                     'add_32[0][0]']              \n",
            "                                                                                                  \n",
            " conv2d_15 (Conv2D)          (None, 16, 16, 256)          65792     ['add_33[0][0]']              \n",
            "                                                                                                  \n",
            " activation_30 (Activation)  (None, 16, 16, 256)          0         ['conv2d_15[0][0]']           \n",
            "                                                                                                  \n",
            " batch_normalization_30 (Ba  (None, 16, 16, 256)          1024      ['activation_30[0][0]']       \n",
            " tchNormalization)                                                                                \n",
            "                                                                                                  \n",
            " add_34 (Add)                (None, 16, 16, 256)          0         ['add_23[0][0]',              \n",
            "                                                                     'batch_normalization_30[0][0]\n",
            "                                                                    ']                            \n",
            "                                                                                                  \n",
            " depthwise_conv2d_15 (Depth  (None, 16, 16, 256)          6656      ['add_34[0][0]']              \n",
            " wiseConv2D)                                                                                      \n",
            "                                                                                                  \n",
            " activation_31 (Activation)  (None, 16, 16, 256)          0         ['depthwise_conv2d_15[0][0]'] \n",
            "                                                                                                  \n",
            " batch_normalization_31 (Ba  (None, 16, 16, 256)          1024      ['activation_31[0][0]']       \n",
            " tchNormalization)                                                                                \n",
            "                                                                                                  \n",
            " add_35 (Add)                (None, 16, 16, 256)          0         ['batch_normalization_31[0][0]\n",
            "                                                                    ',                            \n",
            "                                                                     'add_34[0][0]']              \n",
            "                                                                                                  \n",
            " conv2d_16 (Conv2D)          (None, 16, 16, 256)          65792     ['add_35[0][0]']              \n",
            "                                                                                                  \n",
            " activation_32 (Activation)  (None, 16, 16, 256)          0         ['conv2d_16[0][0]']           \n",
            "                                                                                                  \n",
            " batch_normalization_32 (Ba  (None, 16, 16, 256)          1024      ['activation_32[0][0]']       \n",
            " tchNormalization)                                                                                \n",
            "                                                                                                  \n",
            " add_36 (Add)                (None, 16, 16, 256)          0         ['add_25[0][0]',              \n",
            "                                                                     'batch_normalization_32[0][0]\n",
            "                                                                    ']                            \n",
            "                                                                                                  \n",
            " global_average_pooling2d (  (None, 256)                  0         ['add_36[0][0]']              \n",
            " GlobalAveragePooling2D)                                                                          \n",
            "                                                                                                  \n",
            " dense (Dense)               (None, 3)                    771       ['global_average_pooling2d[0][\n",
            "                                                                    0]']                          \n",
            "                                                                                                  \n",
            "==================================================================================================\n",
            "Total params: 1783811 (6.80 MB)\n",
            "Trainable params: 1766915 (6.74 MB)\n",
            "Non-trainable params: 16896 (66.00 KB)\n",
            "__________________________________________________________________________________________________\n"
          ]
        }
      ],
      "source": [
        "model = load_siren()\n",
        "model.summary()"
      ]
    },
    {
      "cell_type": "code",
      "execution_count": 22,
      "metadata": {
        "colab": {
          "base_uri": "https://localhost:8080/"
        },
        "id": "OHRkV-hcjkwd",
        "outputId": "251b421f-be75-4c21-ecff-a1fb982a8b1b"
      },
      "outputs": [
        {
          "name": "stdout",
          "output_type": "stream",
          "text": [
            "Epoch 1/20\n",
            "2/2 [==============================] - 22s 5s/step - loss: 1.6782 - accuracy: 0.1429 - val_loss: 1.0879 - val_accuracy: 0.3333\n",
            "Epoch 2/20\n",
            "2/2 [==============================] - 2s 910ms/step - loss: 3.1551 - accuracy: 0.3571 - val_loss: 0.8190 - val_accuracy: 0.6667\n",
            "Epoch 3/20\n",
            "2/2 [==============================] - 1s 565ms/step - loss: 4.0324 - accuracy: 0.2857 - val_loss: 0.6536 - val_accuracy: 0.6667\n",
            "Epoch 4/20\n",
            "2/2 [==============================] - 1s 577ms/step - loss: 1.6171 - accuracy: 0.4286 - val_loss: 0.6983 - val_accuracy: 0.6667\n",
            "Epoch 5/20\n",
            "2/2 [==============================] - 1s 568ms/step - loss: 3.2197 - accuracy: 0.1429 - val_loss: 0.6905 - val_accuracy: 0.3333\n",
            "Epoch 6/20\n",
            "2/2 [==============================] - 1s 698ms/step - loss: 1.5459 - accuracy: 0.5000 - val_loss: 1.0371 - val_accuracy: 0.3333\n",
            "Epoch 7/20\n",
            "2/2 [==============================] - 1s 571ms/step - loss: 2.0834 - accuracy: 0.3571 - val_loss: 1.3525 - val_accuracy: 0.3333\n",
            "Epoch 8/20\n",
            "2/2 [==============================] - 1s 563ms/step - loss: 1.0000 - accuracy: 0.5000 - val_loss: 1.0296 - val_accuracy: 0.3333\n",
            "Epoch 9/20\n",
            "2/2 [==============================] - 1s 614ms/step - loss: 0.9562 - accuracy: 0.5714 - val_loss: 0.7783 - val_accuracy: 0.3333\n",
            "Epoch 10/20\n",
            "2/2 [==============================] - 1s 602ms/step - loss: 1.2867 - accuracy: 0.3571 - val_loss: 0.7780 - val_accuracy: 0.3333\n",
            "Epoch 11/20\n",
            "2/2 [==============================] - 1s 575ms/step - loss: 1.3561 - accuracy: 0.4286 - val_loss: 1.1934 - val_accuracy: 0.3333\n",
            "Epoch 12/20\n",
            "2/2 [==============================] - 1s 577ms/step - loss: 1.9234 - accuracy: 0.3571 - val_loss: 1.1587 - val_accuracy: 0.3333\n",
            "Epoch 13/20\n",
            "2/2 [==============================] - 2s 911ms/step - loss: 0.8393 - accuracy: 0.6429 - val_loss: 0.6537 - val_accuracy: 0.3333\n",
            "Epoch 14/20\n",
            "2/2 [==============================] - 1s 559ms/step - loss: 1.7463 - accuracy: 0.5000 - val_loss: 0.7139 - val_accuracy: 0.6667\n",
            "Epoch 15/20\n",
            "2/2 [==============================] - 1s 566ms/step - loss: 0.4678 - accuracy: 0.8571 - val_loss: 0.9475 - val_accuracy: 0.6667\n",
            "Epoch 16/20\n",
            "2/2 [==============================] - 1s 772ms/step - loss: 0.9166 - accuracy: 0.5714 - val_loss: 0.8088 - val_accuracy: 0.6667\n",
            "Epoch 17/20\n",
            "2/2 [==============================] - 1s 586ms/step - loss: 0.8520 - accuracy: 0.5000 - val_loss: 0.7857 - val_accuracy: 0.6667\n",
            "Epoch 18/20\n",
            "2/2 [==============================] - 1s 615ms/step - loss: 1.0604 - accuracy: 0.6429 - val_loss: 0.9149 - val_accuracy: 0.6667\n",
            "Epoch 19/20\n",
            "2/2 [==============================] - 2s 822ms/step - loss: 0.9530 - accuracy: 0.5714 - val_loss: 1.1289 - val_accuracy: 0.6667\n",
            "Epoch 20/20\n",
            "2/2 [==============================] - 2s 842ms/step - loss: 1.0298 - accuracy: 0.5714 - val_loss: 1.1559 - val_accuracy: 0.6667\n",
            "1/1 [==============================] - 0s 86ms/step - loss: 2.3017 - accuracy: 0.3333\n",
            "Test accuracy: 33.33%\n"
          ]
        }
      ],
      "source": [
        "history, model = launch_experiment(model)"
      ]
    },
    {
      "cell_type": "code",
      "execution_count": 23,
      "metadata": {
        "colab": {
          "base_uri": "https://localhost:8080/"
        },
        "id": "8OLRxPrgjkwd",
        "outputId": "8119ea79-00ee-4adf-b02b-c635f4e42e07"
      },
      "outputs": [
        {
          "name": "stderr",
          "output_type": "stream",
          "text": [
            "/usr/local/lib/python3.10/dist-packages/keras/src/engine/training.py:3103: UserWarning: You are saving your model as an HDF5 file via `model.save()`. This file format is considered legacy. We recommend using instead the native Keras format, e.g. `model.save('my_model.keras')`.\n",
            "  saving_api.save_model(\n"
          ]
        }
      ],
      "source": [
        "model.save(model_save_path)"
      ]
    },
    {
      "cell_type": "code",
      "execution_count": 24,
      "metadata": {
        "colab": {
          "base_uri": "https://localhost:8080/"
        },
        "id": "kTpGzaVgjkwd",
        "outputId": "fa463487-60aa-4673-efb9-e1e419d446b7"
      },
      "outputs": [
        {
          "name": "stdout",
          "output_type": "stream",
          "text": [
            "1/1 [==============================] - 1s 921ms/step\n"
          ]
        }
      ],
      "source": [
        "pred = model.predict(test_ds)"
      ]
    },
    {
      "cell_type": "code",
      "execution_count": 25,
      "metadata": {
        "id": "GZQ8vTLajkwd"
      },
      "outputs": [],
      "source": [
        "# ============================== generate data ==============================\n",
        "import os\n",
        "import numpy as np\n",
        "import matplotlib.pyplot as plt\n",
        "from scipy import interp\n",
        "from itertools import cycle\n",
        "from sklearn.metrics import roc_curve, auc\n",
        "from sklearn.metrics import classification_report\n",
        "from sklearn.metrics import PredictionErrorDisplay\n",
        "from sklearn import metrics\n",
        "import tensorflow as tf\n",
        "from tensorflow import keras as k"
      ]
    },
    {
      "cell_type": "code",
      "execution_count": 26,
      "metadata": {
        "colab": {
          "base_uri": "https://localhost:8080/",
          "height": 472
        },
        "id": "M_GNGjQ5jkwd",
        "outputId": "0c4614d2-01b3-41af-ba5a-89b46ffccb7c"
      },
      "outputs": [
        {
          "data": {
            "image/png": "[encoded data removed]",
            "text/plain": [
              "<Figure size 640x480 with 1 Axes>"
            ]
          },
          "metadata": {},
          "output_type": "display_data"
        }
      ],
      "source": [
        "plt.plot(history.history[\"loss\"])\n",
        "plt.plot(history.history[\"val_loss\"])\n",
        "plt.title(\"model loss\")\n",
        "plt.ylabel(\"loss\")\n",
        "plt.xlabel(\"epoch\")\n",
        "plt.legend([\"train\", \"val\"], loc=\"upper left\")\n",
        "plt.show()"
      ]
    },
    {
      "cell_type": "code",
      "execution_count": 27,
      "metadata": {
        "colab": {
          "base_uri": "https://localhost:8080/",
          "height": 472
        },
        "id": "Dm4K9uDrjkwd",
        "outputId": "65f03b88-374e-4661-dcaf-a2365d434178"
      },
      "outputs": [
        {
          "data": {
            "image/png": "[encoded data removed]",
            "text/plain": [
              "<Figure size 640x480 with 1 Axes>"
            ]
          },
          "metadata": {},
          "output_type": "display_data"
        }
      ],
      "source": [
        "plt.plot(history.history[\"accuracy\"])\n",
        "plt.plot(history.history[\"val_accuracy\"])\n",
        "plt.title(\"model accuracy\")\n",
        "plt.ylabel(\"accuracy\")\n",
        "plt.xlabel(\"epoch\")\n",
        "plt.legend([\"train\", \"val\"], loc=\"upper left\")\n",
        "plt.show()"
      ]
    },
    {
      "cell_type": "code",
      "execution_count": 28,
      "metadata": {
        "colab": {
          "base_uri": "https://localhost:8080/",
          "height": 544
        },
        "id": "-vNTtEwnjkwe",
        "outputId": "521a08c4-40aa-4aa8-8b46-e2ba6c957226"
      },
      "outputs": [
        {
          "name": "stdout",
          "output_type": "stream",
          "text": [
            "1/1 [==============================] - 0s 87ms/step\n"
          ]
        },
        {
          "name": "stderr",
          "output_type": "stream",
          "text": [
            "<ipython-input-28-0227eecc12f4>:27: DeprecationWarning: scipy.interp is deprecated and will be removed in SciPy 2.0.0, use numpy.interp instead\n",
            "  mean_tpr += interp(all_fpr, fpr[i], tpr[i])\n"
          ]
        },
        {
          "data": {
            "image/png": "[encoded data removed]",
            "text/plain": [
              "<Figure size 640x480 with 1 Axes>"
            ]
          },
          "metadata": {},
          "output_type": "display_data"
        }
      ],
      "source": [
        "x_test = test_ds\n",
        "y_test = labels_test\n",
        "y_score = model.predict(x_test)\n",
        "y_test = y_test\n",
        "\n",
        "n_classes = num_classes\n",
        "# Plot linewidth.\n",
        "lw = 2\n",
        "# Compute ROC curve and ROC area for each class\n",
        "fpr = dict()\n",
        "tpr = dict()\n",
        "roc_auc = dict()\n",
        "for i in range(n_classes):\n",
        "    fpr[i], tpr[i], _ = roc_curve(y_test[:, i], y_score[:, i])\n",
        "    roc_auc[i] = auc(fpr[i], tpr[i])\n",
        "\n",
        "# Compute micro-average ROC curve and ROC area\n",
        "fpr[\"micro\"], tpr[\"micro\"], _ = roc_curve(y_test.ravel(), y_score.ravel())\n",
        "roc_auc[\"micro\"] = auc(fpr[\"micro\"], tpr[\"micro\"])\n",
        "\n",
        "# First aggregate all false positive rates\n",
        "all_fpr = np.unique(np.concatenate([fpr[i] for i in range(n_classes)]))\n",
        "\n",
        "# Then interpolate all ROC curves at this points\n",
        "mean_tpr = np.zeros_like(all_fpr)\n",
        "for i in range(n_classes):\n",
        "    mean_tpr += interp(all_fpr, fpr[i], tpr[i])\n",
        "\n",
        "# Finally average it and compute AUC\n",
        "mean_tpr /= n_classes\n",
        "\n",
        "fpr[\"macro\"] = all_fpr\n",
        "tpr[\"macro\"] = mean_tpr\n",
        "roc_auc[\"macro\"] = auc(fpr[\"macro\"], tpr[\"macro\"])\n",
        "\n",
        "# Plot all ROC curves\n",
        "plt.figure(1)\n",
        "plt.plot(\n",
        "    fpr[\"micro\"],\n",
        "    tpr[\"micro\"],\n",
        "    label=\"micro-average ROC curve (area = {0:0.2f})\" \"\".format(roc_auc[\"micro\"]),\n",
        "    color=\"deeppink\",\n",
        "    linestyle=\":\",\n",
        "    linewidth=4,\n",
        ")\n",
        "\n",
        "plt.plot(\n",
        "    fpr[\"macro\"],\n",
        "    tpr[\"macro\"],\n",
        "    label=\"macro-average ROC curve (area = {0:0.2f})\" \"\".format(roc_auc[\"macro\"]),\n",
        "    color=\"navy\",\n",
        "    linestyle=\":\",\n",
        "    linewidth=4,\n",
        ")\n",
        "\n",
        "colors = cycle([\"aqua\", \"darkorange\", \"cornflowerblue\"])\n",
        "for i, color in zip(range(n_classes), colors):\n",
        "    plt.plot(\n",
        "        fpr[i],\n",
        "        tpr[i],\n",
        "        color=color,\n",
        "        lw=lw,\n",
        "        label=\"ROC curve of class {0} (area = {1:0.2f})\" \"\".format(i, roc_auc[i]),\n",
        "    )\n",
        "\n",
        "plt.plot([0, 1], [0, 1], \"k--\", lw=lw)\n",
        "plt.xlim([0.0, 1.0])\n",
        "plt.ylim([0.0, 1.05])\n",
        "plt.xlabel(\"False Positive Rate\")\n",
        "plt.ylabel(\"True Positive Rate\")\n",
        "plt.title(\"Receiver operating characteristic multi-class\")\n",
        "plt.legend(loc=\"lower right\")\n",
        "plt.show()"
      ]
    },
    {
      "cell_type": "code",
      "execution_count": 29,
      "metadata": {
        "colab": {
          "base_uri": "https://localhost:8080/"
        },
        "id": "7lseyJ2jjkwe",
        "outputId": "4aee9e4a-ec57-462d-dcba-98f77dfcc9c1"
      },
      "outputs": [
        {
          "name": "stdout",
          "output_type": "stream",
          "text": [
            "[[0 0 1]\n",
            " [0 0 1]\n",
            " [0 0 1]]\n",
            "              precision    recall  f1-score   support\n",
            "\n",
            "           0       0.00      0.00      0.00         1\n",
            "           1       0.00      0.00      0.00         1\n",
            "           2       0.33      1.00      0.50         1\n",
            "\n",
            "    accuracy                           0.33         3\n",
            "   macro avg       0.11      0.33      0.17         3\n",
            "weighted avg       0.11      0.33      0.17         3\n",
            "\n"
          ]
        },
        {
          "name": "stderr",
          "output_type": "stream",
          "text": [
            "/usr/local/lib/python3.10/dist-packages/sklearn/metrics/_classification.py:1344: UndefinedMetricWarning: Precision and F-score are ill-defined and being set to 0.0 in labels with no predicted samples. Use `zero_division` parameter to control this behavior.\n",
            "  _warn_prf(average, modifier, msg_start, len(result))\n",
            "/usr/local/lib/python3.10/dist-packages/sklearn/metrics/_classification.py:1344: UndefinedMetricWarning: Precision and F-score are ill-defined and being set to 0.0 in labels with no predicted samples. Use `zero_division` parameter to control this behavior.\n",
            "  _warn_prf(average, modifier, msg_start, len(result))\n",
            "/usr/local/lib/python3.10/dist-packages/sklearn/metrics/_classification.py:1344: UndefinedMetricWarning: Precision and F-score are ill-defined and being set to 0.0 in labels with no predicted samples. Use `zero_division` parameter to control this behavior.\n",
            "  _warn_prf(average, modifier, msg_start, len(result))\n"
          ]
        }
      ],
      "source": [
        "y_classes = np.argmax(y_score, axis=1)\n",
        "labels_test_f1 = np.argmax(y_test, axis=1)\n",
        "\n",
        "print(metrics.confusion_matrix(labels_test_f1, y_classes))\n",
        "print(classification_report(labels_test_f1, y_classes))"
      ]
    },
    {
      "cell_type": "code",
      "execution_count": 30,
      "metadata": {
        "colab": {
          "base_uri": "https://localhost:8080/"
        },
        "id": "FQ4_9LeDjkwe",
        "outputId": "4c783e31-4583-4645-b6e9-2c0615f356ef"
      },
      "outputs": [
        {
          "name": "stdout",
          "output_type": "stream",
          "text": [
            "AUC:  0.5\n"
          ]
        }
      ],
      "source": [
        "fpr, tpr, thresholds = metrics.roc_curve(labels_test_f1, y_classes, pos_label=2)\n",
        "print(\"AUC: \", metrics.auc(fpr, tpr))"
      ]
    }
  ],
  "metadata": {
    "accelerator": "GPU",
    "colab": {
      "gpuType": "T4",
      "provenance": []
    },
    "kernelspec": {
      "display_name": "Python 3",
      "name": "python3"
    },
    "language_info": {
      "codemirror_mode": {
        "name": "ipython",
        "version": 3
      },
      "file_extension": ".py",
      "mimetype": "text/x-python",
      "name": "python",
      "nbconvert_exporter": "python",
      "pygments_lexer": "ipython3",
      "version": "3.9.17"
    },
    "orig_nbformat": 4
  },
  "nbformat": 4,
  "nbformat_minor": 0
}
