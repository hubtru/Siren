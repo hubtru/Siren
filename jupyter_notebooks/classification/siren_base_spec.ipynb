{
 "cells": [
  {
   "cell_type": "code",
   "execution_count": 1,
   "metadata": {},
   "outputs": [
    {
     "name": "stderr",
     "output_type": "stream",
     "text": [
      "2023-09-20 16:04:59.816131: I tensorflow/core/platform/cpu_feature_guard.cc:182] This TensorFlow binary is optimized to use available CPU instructions in performance-critical operations.\n",
      "To enable the following instructions: AVX2 FMA, in other operations, rebuild TensorFlow with the appropriate compiler flags.\n",
      "2023-09-20 16:05:01.461452: W tensorflow/compiler/tf2tensorrt/utils/py_utils.cc:38] TF-TRT Warning: Could not find TensorRT\n",
      "/home/user/.conda/envs/tf/lib/python3.9/site-packages/tensorflow_addons/utils/tfa_eol_msg.py:23: UserWarning: \n",
      "\n",
      "TensorFlow Addons (TFA) has ended development and introduction of new features.\n",
      "TFA has entered a minimal maintenance and release mode until a planned end of life in May 2024.\n",
      "Please modify downstream libraries to take dependencies from other repositories in our TensorFlow community (e.g. Keras, Keras-CV, and Keras-NLP). \n",
      "\n",
      "For more information see: https://github.com/tensorflow/addons/issues/2807 \n",
      "\n",
      "  warnings.warn(\n"
     ]
    }
   ],
   "source": [
    "import numpy as np\n",
    "import pandas as pd\n",
    "import tensorflow as tf\n",
    "import tensorflow_addons as tfa\n",
    "import matplotlib.pyplot as plt\n",
    "import seaborn as sns\n",
    "from tensorflow import keras as k\n",
    "from keras import layers\n",
    "from sklearn.model_selection import train_test_split\n",
    "import cv2\n",
    "import os\n",
    "os.environ[\"CUDA_VISIBLE_DEVICES\"]=\"1\""
   ]
  },
  {
   "cell_type": "code",
   "execution_count": 2,
   "metadata": {},
   "outputs": [
    {
     "name": "stdout",
     "output_type": "stream",
     "text": [
      "Num GPUs Available:  1\n",
      "GPUs:  [PhysicalDevice(name='/physical_device:GPU:0', device_type='GPU')]\n"
     ]
    },
    {
     "name": "stderr",
     "output_type": "stream",
     "text": [
      "2023-09-20 16:05:05.570252: I tensorflow/compiler/xla/stream_executor/cuda/cuda_gpu_executor.cc:996] successful NUMA node read from SysFS had negative value (-1), but there must be at least one NUMA node, so returning NUMA node zero. See more at https://github.com/torvalds/linux/blob/v6.0/Documentation/ABI/testing/sysfs-bus-pci#L344-L355\n",
      "2023-09-20 16:05:05.621759: I tensorflow/compiler/xla/stream_executor/cuda/cuda_gpu_executor.cc:996] successful NUMA node read from SysFS had negative value (-1), but there must be at least one NUMA node, so returning NUMA node zero. See more at https://github.com/torvalds/linux/blob/v6.0/Documentation/ABI/testing/sysfs-bus-pci#L344-L355\n",
      "2023-09-20 16:05:05.623010: I tensorflow/compiler/xla/stream_executor/cuda/cuda_gpu_executor.cc:996] successful NUMA node read from SysFS had negative value (-1), but there must be at least one NUMA node, so returning NUMA node zero. See more at https://github.com/torvalds/linux/blob/v6.0/Documentation/ABI/testing/sysfs-bus-pci#L344-L355\n"
     ]
    }
   ],
   "source": [
    "# ============================== gpu info ==============================\n",
    "print(\"Num GPUs Available: \", len(tf.config.list_physical_devices(\"GPU\")))\n",
    "print(\"GPUs: \", tf.config.list_physical_devices(\"GPU\"))"
   ]
  },
  {
   "cell_type": "code",
   "execution_count": 3,
   "metadata": {},
   "outputs": [],
   "source": [
    "# ============================== variables ==============================\n",
    "# architecture\n",
    "image_size = 256\n",
    "filters = 256\n",
    "depth = 4\n",
    "columns = 4\n",
    "kernel_size = 5\n",
    "patch_size = 16\n",
    "num_classes = 3\n",
    "\n",
    "in_channel = 9\n",
    "img_rows, img_cols = image_size, image_size\n",
    "input_shape = (img_rows, img_cols, in_channel)\n",
    "\n",
    "learning_rate = 0.001\n",
    "weight_decay = 0.0001\n",
    "batch_size = 8\n",
    "epochs = 20"
   ]
  },
  {
   "cell_type": "code",
   "execution_count": 4,
   "metadata": {},
   "outputs": [],
   "source": [
    "# ============================== paths ==============================\n",
    "# needed for generate_data\n",
    "modality = \"spec\"\n",
    "exp_name = f\"siren\"\n",
    "sub_exp_name = f\"base\"\n",
    "model_name = f\"{exp_name}_{sub_exp_name}_{modality}\"\n",
    "model_save_path = f\"{model_name}.h5\"\n",
    "\n",
    "# dataset\n",
    "csv_path = \"../../dataset/labels_sample.csv\"\n",
    "spec_path = f\"../../dataset/{modality}\""
   ]
  },
  {
   "cell_type": "code",
   "execution_count": 5,
   "metadata": {},
   "outputs": [
    {
     "name": "stdout",
     "output_type": "stream",
     "text": [
      "size check train/test/val 14 3 3 20\n"
     ]
    }
   ],
   "source": [
    "# ============================== load/prepare dataset ==============================\n",
    "df = pd.read_csv(csv_path)\n",
    "\n",
    "# RANDOM DATASET: we switch to toolbased\n",
    "# shuffle, need same state for tool/spec/chips/multi\n",
    "np.random.seed(55)\n",
    "df = df.iloc[np.random.permutation(len(df))]\n",
    "# train/test/val : 70/15/15\n",
    "train_df, test_df = train_test_split(df, test_size=0.3)\n",
    "test_df, val_df = train_test_split(test_df, test_size=0.5)\n",
    "\n",
    "print(\n",
    "    \"size check train/test/val\",\n",
    "    len(train_df),\n",
    "    len(test_df),\n",
    "    len(val_df),\n",
    "    (len(train_df) + len(test_df) + len(val_df)),\n",
    ")\n",
    "\n",
    "train_df[\"spec_x\"] = train_df.id.map(lambda id: f\"{spec_path}/x/{id}.jpg\")\n",
    "test_df[\"spec_x\"] = test_df.id.map(lambda id: f\"{spec_path}/x/{id}.jpg\")\n",
    "val_df[\"spec_x\"] = val_df.id.map(lambda id: f\"{spec_path}/x/{id}.jpg\")\n",
    "\n",
    "train_df[\"spec_y\"] = train_df.id.map(lambda id: f\"{spec_path}/y/{id}.jpg\")\n",
    "test_df[\"spec_y\"] = test_df.id.map(lambda id: f\"{spec_path}/y/{id}.jpg\")\n",
    "val_df[\"spec_y\"] = val_df.id.map(lambda id: f\"{spec_path}/y/{id}.jpg\")\n",
    "\n",
    "train_df[\"spec_z\"] = train_df.id.map(lambda id: f\"{spec_path}/z/{id}.jpg\")\n",
    "test_df[\"spec_z\"] = test_df.id.map(lambda id: f\"{spec_path}/z/{id}.jpg\")\n",
    "val_df[\"spec_z\"] = val_df.id.map(lambda id: f\"{spec_path}/z/{id}.jpg\")\n"
   ]
  },
  {
   "cell_type": "code",
   "execution_count": 6,
   "metadata": {},
   "outputs": [
    {
     "name": "stderr",
     "output_type": "stream",
     "text": [
      "/home/user/.conda/envs/tf/lib/python3.9/site-packages/seaborn/axisgrid.py:118: UserWarning: The figure layout has changed to tight\n",
      "  self._figure.tight_layout(*args, **kwargs)\n"
     ]
    },
    {
     "data": {
      "text/plain": [
       "<Figure size 600x600 with 0 Axes>"
      ]
     },
     "metadata": {},
     "output_type": "display_data"
    },
    {
     "data": {
      "image/png": "[encoded data removed]",
      "text/plain": [
       "<Figure size 500x500 with 1 Axes>"
      ]
     },
     "metadata": {},
     "output_type": "display_data"
    }
   ],
   "source": [
    "plt.figure(figsize=(6,6))\n",
    "sns.displot(train_df['tool_label'])\n",
    "plt.title('Label Distribution')\n",
    "plt.show()"
   ]
  },
  {
   "cell_type": "code",
   "execution_count": 7,
   "metadata": {},
   "outputs": [
    {
     "name": "stdout",
     "output_type": "stream",
     "text": [
      "check if permutation is same on all models\n",
      "train_head          id image_label  tool_label                            spec_x  \\\n",
      "14   T8R3B4       sharp           1   ../../dataset/spec/x/T8R3B4.jpg   \n",
      "10   T6R9B3        used           2   ../../dataset/spec/x/T6R9B3.jpg   \n",
      "0    T1R2B1       sharp           1   ../../dataset/spec/x/T1R2B1.jpg   \n",
      "3   T2R13B4      dulled           3  ../../dataset/spec/x/T2R13B4.jpg   \n",
      "1    T1R7B4        used           2   ../../dataset/spec/x/T1R7B4.jpg   \n",
      "\n",
      "                              spec_y                            spec_z  \n",
      "14   ../../dataset/spec/y/T8R3B4.jpg   ../../dataset/spec/z/T8R3B4.jpg  \n",
      "10   ../../dataset/spec/y/T6R9B3.jpg   ../../dataset/spec/z/T6R9B3.jpg  \n",
      "0    ../../dataset/spec/y/T1R2B1.jpg   ../../dataset/spec/z/T1R2B1.jpg  \n",
      "3   ../../dataset/spec/y/T2R13B4.jpg  ../../dataset/spec/z/T2R13B4.jpg  \n",
      "1    ../../dataset/spec/y/T1R7B4.jpg   ../../dataset/spec/z/T1R7B4.jpg  \n",
      "test_head          id image_label  tool_label                            spec_x  \\\n",
      "16   T9R7B4        used           2   ../../dataset/spec/x/T9R7B4.jpg   \n",
      "18  T10R3B4       sharp           1  ../../dataset/spec/x/T10R3B4.jpg   \n",
      "9   T5R12B1      dulled           3  ../../dataset/spec/x/T5R12B1.jpg   \n",
      "\n",
      "                              spec_y                            spec_z  \n",
      "16   ../../dataset/spec/y/T9R7B4.jpg   ../../dataset/spec/z/T9R7B4.jpg  \n",
      "18  ../../dataset/spec/y/T10R3B4.jpg  ../../dataset/spec/z/T10R3B4.jpg  \n",
      "9   ../../dataset/spec/y/T5R12B1.jpg  ../../dataset/spec/z/T5R12B1.jpg  \n",
      "val_head          id image_label  tool_label                            spec_x  \\\n",
      "5   T3R10B1      dulled           3  ../../dataset/spec/x/T3R10B1.jpg   \n",
      "13  T7R14B3      dulled           3  ../../dataset/spec/x/T7R14B3.jpg   \n",
      "12   T7R8B3        used           2   ../../dataset/spec/x/T7R8B3.jpg   \n",
      "\n",
      "                              spec_y                            spec_z  \n",
      "5   ../../dataset/spec/y/T3R10B1.jpg  ../../dataset/spec/z/T3R10B1.jpg  \n",
      "13  ../../dataset/spec/y/T7R14B3.jpg  ../../dataset/spec/z/T7R14B3.jpg  \n",
      "12   ../../dataset/spec/y/T7R8B3.jpg   ../../dataset/spec/z/T7R8B3.jpg  \n"
     ]
    }
   ],
   "source": [
    "print(\"check if permutation is same on all models\")\n",
    "print(\"train_head\", train_df.head())\n",
    "print(\"test_head\", test_df.head())\n",
    "print(\"val_head\", val_df.head())"
   ]
  },
  {
   "cell_type": "code",
   "execution_count": 8,
   "metadata": {},
   "outputs": [],
   "source": [
    "def read_specs(file_paths_x, file_paths_y, file_paths_z, img_rows, img_cols, channels):\n",
    "    \"\"\"\n",
    "    Reads the spectogram files from disk and normalizes the pixel values\n",
    "      @params:\n",
    "        file_paths - Array of file paths to read from\n",
    "        img_rows - The image height.\n",
    "        img_cols - The image width.\n",
    "        as_grey - Read the image as Greyscale or RGB.\n",
    "        channels - Number of channels.\n",
    "      @returns:\n",
    "        The created and compiled model (Model)\n",
    "    \"\"\"\n",
    "    images = []\n",
    "\n",
    "    for i in range(file_paths_x.size):\n",
    "        img_x = cv2.imread(file_paths_x[i])\n",
    "        res_x = cv2.resize(\n",
    "            img_x, dsize=(img_rows, img_cols), interpolation=cv2.INTER_CUBIC\n",
    "        )\n",
    "        images.append(res_x)\n",
    "        img_y = cv2.imread(file_paths_y[i])\n",
    "        res_y = cv2.resize(\n",
    "            img_y, dsize=(img_rows, img_cols), interpolation=cv2.INTER_CUBIC\n",
    "        )\n",
    "        images.append(res_y)\n",
    "        img_z = cv2.imread(file_paths_z[i])\n",
    "        res_z = cv2.resize(\n",
    "            img_z, dsize=(img_rows, img_cols), interpolation=cv2.INTER_CUBIC\n",
    "        )\n",
    "        images.append(res_z)\n",
    "\n",
    "    images = np.asarray(images, dtype=np.float32)\n",
    "\n",
    "    # normalize\n",
    "    images = images / np.max(images)\n",
    "\n",
    "    # reshape to match Keras expectaions\n",
    "    images = images.reshape(file_paths_x.shape[0], img_rows, img_cols, channels)\n",
    "\n",
    "    return images"
   ]
  },
  {
   "cell_type": "code",
   "execution_count": 9,
   "metadata": {},
   "outputs": [],
   "source": [
    "x_train_spec = read_specs(\n",
    "    train_df.spec_x.values,\n",
    "    train_df.spec_y.values,\n",
    "    train_df.spec_z.values,\n",
    "    img_rows,\n",
    "    img_cols,\n",
    "    in_channel,\n",
    ")\n",
    "x_test_spec = read_specs(\n",
    "    test_df.spec_x.values,\n",
    "    test_df.spec_y.values,\n",
    "    test_df.spec_z.values,\n",
    "    img_rows,\n",
    "    img_cols,\n",
    "    in_channel,\n",
    ")\n",
    "x_val_spec = read_specs(\n",
    "    val_df.spec_x.values,\n",
    "    val_df.spec_y.values,\n",
    "    val_df.spec_z.values,\n",
    "    img_rows,\n",
    "    img_cols,\n",
    "    in_channel,\n",
    ")"
   ]
  },
  {
   "cell_type": "code",
   "execution_count": 10,
   "metadata": {},
   "outputs": [
    {
     "data": {
      "text/plain": [
       "(14, 256, 256, 9)"
      ]
     },
     "execution_count": 10,
     "metadata": {},
     "output_type": "execute_result"
    }
   ],
   "source": [
    "x_train_spec.shape"
   ]
  },
  {
   "cell_type": "code",
   "execution_count": 11,
   "metadata": {},
   "outputs": [
    {
     "data": {
      "text/plain": [
       "array([1, 2, 1, 3, 2, 2, 3, 2, 1, 1, 3, 1, 2, 3])"
      ]
     },
     "execution_count": 11,
     "metadata": {},
     "output_type": "execute_result"
    }
   ],
   "source": [
    "labels_train = train_df.tool_label.values\n",
    "labels_test = test_df.tool_label.values\n",
    "labels_val = val_df.tool_label.values\n",
    "\n",
    "labels_train"
   ]
  },
  {
   "cell_type": "code",
   "execution_count": 12,
   "metadata": {},
   "outputs": [],
   "source": [
    "labels_train = labels_train - 1\n",
    "labels_test = labels_test - 1\n",
    "labels_val = labels_val - 1\n",
    "\n",
    "labels_train = tf.keras.utils.to_categorical(\n",
    "    labels_train, num_classes=num_classes, dtype=\"float32\"\n",
    ")\n",
    "labels_test = tf.keras.utils.to_categorical(\n",
    "    labels_test, num_classes=num_classes, dtype=\"float32\"\n",
    ")\n",
    "labels_val = tf.keras.utils.to_categorical(\n",
    "    labels_val, num_classes=num_classes, dtype=\"float32\"\n",
    ")"
   ]
  },
  {
   "cell_type": "code",
   "execution_count": 13,
   "metadata": {},
   "outputs": [
    {
     "name": "stderr",
     "output_type": "stream",
     "text": [
      "2023-09-20 16:05:06.779312: I tensorflow/compiler/xla/stream_executor/cuda/cuda_gpu_executor.cc:996] successful NUMA node read from SysFS had negative value (-1), but there must be at least one NUMA node, so returning NUMA node zero. See more at https://github.com/torvalds/linux/blob/v6.0/Documentation/ABI/testing/sysfs-bus-pci#L344-L355\n",
      "2023-09-20 16:05:06.780688: I tensorflow/compiler/xla/stream_executor/cuda/cuda_gpu_executor.cc:996] successful NUMA node read from SysFS had negative value (-1), but there must be at least one NUMA node, so returning NUMA node zero. See more at https://github.com/torvalds/linux/blob/v6.0/Documentation/ABI/testing/sysfs-bus-pci#L344-L355\n",
      "2023-09-20 16:05:06.782035: I tensorflow/compiler/xla/stream_executor/cuda/cuda_gpu_executor.cc:996] successful NUMA node read from SysFS had negative value (-1), but there must be at least one NUMA node, so returning NUMA node zero. See more at https://github.com/torvalds/linux/blob/v6.0/Documentation/ABI/testing/sysfs-bus-pci#L344-L355\n",
      "2023-09-20 16:05:07.859473: I tensorflow/compiler/xla/stream_executor/cuda/cuda_gpu_executor.cc:996] successful NUMA node read from SysFS had negative value (-1), but there must be at least one NUMA node, so returning NUMA node zero. See more at https://github.com/torvalds/linux/blob/v6.0/Documentation/ABI/testing/sysfs-bus-pci#L344-L355\n",
      "2023-09-20 16:05:07.860479: I tensorflow/compiler/xla/stream_executor/cuda/cuda_gpu_executor.cc:996] successful NUMA node read from SysFS had negative value (-1), but there must be at least one NUMA node, so returning NUMA node zero. See more at https://github.com/torvalds/linux/blob/v6.0/Documentation/ABI/testing/sysfs-bus-pci#L344-L355\n",
      "2023-09-20 16:05:07.861396: I tensorflow/compiler/xla/stream_executor/cuda/cuda_gpu_executor.cc:996] successful NUMA node read from SysFS had negative value (-1), but there must be at least one NUMA node, so returning NUMA node zero. See more at https://github.com/torvalds/linux/blob/v6.0/Documentation/ABI/testing/sysfs-bus-pci#L344-L355\n",
      "2023-09-20 16:05:07.862370: I tensorflow/core/common_runtime/gpu/gpu_device.cc:1635] Created device /job:localhost/replica:0/task:0/device:GPU:0 with 10377 MB memory:  -> device: 0, name: NVIDIA GeForce GTX 1080 Ti, pci bus id: 0000:00:11.0, compute capability: 6.1\n"
     ]
    }
   ],
   "source": [
    "train_dataset = tf.data.Dataset.from_tensor_slices((x_train_spec, labels_train))\n",
    "test_dataset = tf.data.Dataset.from_tensor_slices((x_test_spec, labels_test))\n",
    "val_dataset = tf.data.Dataset.from_tensor_slices((x_val_spec, labels_val))"
   ]
  },
  {
   "cell_type": "code",
   "execution_count": 14,
   "metadata": {},
   "outputs": [],
   "source": [
    "# ============================== augment ==============================\n",
    "auto = tf.data.AUTOTUNE\n",
    "\n",
    "data_augmentation = k.Sequential(\n",
    "    [\n",
    "        k.layers.RandomBrightness(factor=(-0.2, 0.2), value_range=(0, 1)),\n",
    "        k.layers.RandomContrast(factor=0.2),\n",
    "        k.layers.GaussianNoise(stddev=0.2),\n",
    "    ],\n",
    "    name=\"data_augmentation\",\n",
    ")"
   ]
  },
  {
   "cell_type": "code",
   "execution_count": 15,
   "metadata": {},
   "outputs": [],
   "source": [
    "def generate_datasets(images, is_train=False, shuffle=False):\n",
    "    dataset = images\n",
    "    if shuffle:\n",
    "        dataset = dataset.shuffle(batch_size * 10)\n",
    "    dataset = dataset.batch(batch_size)\n",
    "    if is_train:\n",
    "        dataset = dataset.map(\n",
    "            lambda x, y: (data_augmentation(x), y), num_parallel_calls=auto\n",
    "        )\n",
    "    return dataset.prefetch(auto)"
   ]
  },
  {
   "cell_type": "code",
   "execution_count": 16,
   "metadata": {},
   "outputs": [],
   "source": [
    "train_ds = generate_datasets(train_dataset, is_train=True, shuffle=True)\n",
    "val_ds = generate_datasets(val_dataset)\n",
    "test_ds = generate_datasets(test_dataset)"
   ]
  },
  {
   "cell_type": "code",
   "execution_count": 17,
   "metadata": {},
   "outputs": [
    {
     "data": {
      "text/plain": [
       "<_PrefetchDataset element_spec=(TensorSpec(shape=(None, 256, 256, 9), dtype=tf.float32, name=None), TensorSpec(shape=(None, 3), dtype=tf.float32, name=None))>"
      ]
     },
     "execution_count": 17,
     "metadata": {},
     "output_type": "execute_result"
    }
   ],
   "source": [
    "train_ds"
   ]
  },
  {
   "cell_type": "code",
   "execution_count": 18,
   "metadata": {},
   "outputs": [],
   "source": [
    "def activation_module(x):\n",
    "    x = layers.Activation(\"gelu\")(x)\n",
    "    return layers.BatchNormalization()(x)\n",
    "\n",
    "\n",
    "def base_module(x, filters: int, patch_size: int):\n",
    "    x = layers.Conv2D(filters, kernel_size=patch_size, strides=patch_size)(x)\n",
    "    return activation_module(x)\n",
    "\n",
    "\n",
    "def depth_point_module(\n",
    "    x, pe_block, column, level, depth, r_arr, filters: int, kernel_size: int\n",
    "):\n",
    "    if column == 0:\n",
    "        # Depthwise convolution.\n",
    "        x0 = x\n",
    "        x = layers.DepthwiseConv2D(kernel_size=kernel_size, padding=\"same\")(x)\n",
    "        x = layers.Add()([activation_module(x), x0])  # Residual.\n",
    "\n",
    "        # Pointwise convolution.\n",
    "        x = layers.Conv2D(filters, kernel_size=1)(x)\n",
    "        x = activation_module(x)\n",
    "\n",
    "        r_arr = reverasable_output_array(x, r_arr, column, level)\n",
    "        return x, r_arr\n",
    "    else:\n",
    "        if level == 0:\n",
    "            x0 = fusion_block_double(r_arr[column - 1][level + 1], pe_block)\n",
    "        elif level < len(r_arr[0]) - 1 and level != 0:\n",
    "            x0 = fusion_block_double(r_arr[column - 1][level + 1], x)\n",
    "        else:\n",
    "            x0 = x\n",
    "        x = layers.DepthwiseConv2D(kernel_size=kernel_size, padding=\"same\")(x0)\n",
    "        x = layers.Add()([activation_module(x), x0])  # Residual.\n",
    "\n",
    "        # Pointwise convolution.\n",
    "        x = layers.Conv2D(filters, kernel_size=1)(x)\n",
    "        x = activation_module(x)\n",
    "\n",
    "        if column != 0:\n",
    "            x = fusion_block_double(r_arr[column - 1][level], x)\n",
    "\n",
    "        r_arr = reverasable_output_array(x, r_arr, column, level)\n",
    "\n",
    "        return x, r_arr\n",
    "\n",
    "\n",
    "def fusion_block_double(x, y):\n",
    "    return layers.Add()([x, y])\n",
    "\n",
    "\n",
    "def reverasable_output_array(x, r_arr, column, level):\n",
    "    r_arr[column][level] = x\n",
    "    return r_arr\n",
    "\n",
    "\n",
    "def load_siren(\n",
    "    image_size=image_size,\n",
    "    filters=filters,\n",
    "    depth=depth,\n",
    "    columns=columns,\n",
    "    kernel_size=kernel_size,\n",
    "    patch_size=patch_size,\n",
    "    num_classes=num_classes,\n",
    "):\n",
    "    r_arr = [[None for _ in range(depth)] for _ in range(columns)]\n",
    "\n",
    "    inputs = k.Input(input_shape)\n",
    "    # x = layers.Rescaling(scale=1.0 / 255)(inputs)         # already rescaled\n",
    "\n",
    "    # Extract patch embeddings.\n",
    "    x = base_module(inputs, filters, patch_size)\n",
    "    pe_block = x\n",
    "\n",
    "    # Siren blocks.\n",
    "    for column in range(columns):\n",
    "        for level in range(depth):\n",
    "            x, r_arr = depth_point_module(\n",
    "                x, pe_block, column, level, depth, r_arr, filters, kernel_size\n",
    "            )\n",
    "\n",
    "    # Classification block.\n",
    "    x = layers.GlobalAvgPool2D()(x)\n",
    "    outputs = layers.Dense(num_classes, activation=\"softmax\")(x)\n",
    "\n",
    "    return k.Model(inputs, outputs)"
   ]
  },
  {
   "cell_type": "code",
   "execution_count": 19,
   "metadata": {},
   "outputs": [],
   "source": [
    "def launch_experiment(model):\n",
    "    optimizer = tfa.optimizers.AdamW(\n",
    "        learning_rate=learning_rate, weight_decay=weight_decay\n",
    "    )\n",
    "\n",
    "    model.compile(\n",
    "        optimizer=optimizer,\n",
    "        loss=\"categorical_crossentropy\",\n",
    "        metrics=[\"accuracy\"],\n",
    "    )\n",
    "\n",
    "    history = model.fit(\n",
    "        train_ds,\n",
    "        validation_data=val_ds,\n",
    "        epochs=epochs,\n",
    "    )\n",
    "\n",
    "    _, accuracy = model.evaluate(test_ds)\n",
    "    print(f\"Test accuracy: {round(accuracy * 100, 2)}%\")\n",
    "\n",
    "    return history, model"
   ]
  },
  {
   "cell_type": "code",
   "execution_count": 20,
   "metadata": {},
   "outputs": [
    {
     "name": "stdout",
     "output_type": "stream",
     "text": [
      "Model: \"model\"\n",
      "__________________________________________________________________________________________________\n",
      " Layer (type)                   Output Shape         Param #     Connected to                     \n",
      "==================================================================================================\n",
      " input_1 (InputLayer)           [(None, 256, 256, 9  0           []                               \n",
      "                                )]                                                                \n",
      "                                                                                                  \n",
      " conv2d (Conv2D)                (None, 16, 16, 256)  590080      ['input_1[0][0]']                \n",
      "                                                                                                  \n",
      " activation (Activation)        (None, 16, 16, 256)  0           ['conv2d[0][0]']                 \n",
      "                                                                                                  \n",
      " batch_normalization (BatchNorm  (None, 16, 16, 256)  1024       ['activation[0][0]']             \n",
      " alization)                                                                                       \n",
      "                                                                                                  \n",
      " depthwise_conv2d (DepthwiseCon  (None, 16, 16, 256)  6656       ['batch_normalization[0][0]']    \n",
      " v2D)                                                                                             \n",
      "                                                                                                  \n",
      " activation_1 (Activation)      (None, 16, 16, 256)  0           ['depthwise_conv2d[0][0]']       \n",
      "                                                                                                  \n",
      " batch_normalization_1 (BatchNo  (None, 16, 16, 256)  1024       ['activation_1[0][0]']           \n",
      " rmalization)                                                                                     \n",
      "                                                                                                  \n",
      " add (Add)                      (None, 16, 16, 256)  0           ['batch_normalization_1[0][0]',  \n",
      "                                                                  'batch_normalization[0][0]']    \n",
      "                                                                                                  \n",
      " conv2d_1 (Conv2D)              (None, 16, 16, 256)  65792       ['add[0][0]']                    \n",
      "                                                                                                  \n",
      " activation_2 (Activation)      (None, 16, 16, 256)  0           ['conv2d_1[0][0]']               \n",
      "                                                                                                  \n",
      " batch_normalization_2 (BatchNo  (None, 16, 16, 256)  1024       ['activation_2[0][0]']           \n",
      " rmalization)                                                                                     \n",
      "                                                                                                  \n",
      " depthwise_conv2d_1 (DepthwiseC  (None, 16, 16, 256)  6656       ['batch_normalization_2[0][0]']  \n",
      " onv2D)                                                                                           \n",
      "                                                                                                  \n",
      " activation_3 (Activation)      (None, 16, 16, 256)  0           ['depthwise_conv2d_1[0][0]']     \n",
      "                                                                                                  \n",
      " batch_normalization_3 (BatchNo  (None, 16, 16, 256)  1024       ['activation_3[0][0]']           \n",
      " rmalization)                                                                                     \n",
      "                                                                                                  \n",
      " add_1 (Add)                    (None, 16, 16, 256)  0           ['batch_normalization_3[0][0]',  \n",
      "                                                                  'batch_normalization_2[0][0]']  \n",
      "                                                                                                  \n",
      " conv2d_2 (Conv2D)              (None, 16, 16, 256)  65792       ['add_1[0][0]']                  \n",
      "                                                                                                  \n",
      " activation_4 (Activation)      (None, 16, 16, 256)  0           ['conv2d_2[0][0]']               \n",
      "                                                                                                  \n",
      " batch_normalization_4 (BatchNo  (None, 16, 16, 256)  1024       ['activation_4[0][0]']           \n",
      " rmalization)                                                                                     \n",
      "                                                                                                  \n",
      " add_4 (Add)                    (None, 16, 16, 256)  0           ['batch_normalization_4[0][0]',  \n",
      "                                                                  'batch_normalization[0][0]']    \n",
      "                                                                                                  \n",
      " depthwise_conv2d_4 (DepthwiseC  (None, 16, 16, 256)  6656       ['add_4[0][0]']                  \n",
      " onv2D)                                                                                           \n",
      "                                                                                                  \n",
      " depthwise_conv2d_2 (DepthwiseC  (None, 16, 16, 256)  6656       ['batch_normalization_4[0][0]']  \n",
      " onv2D)                                                                                           \n",
      "                                                                                                  \n",
      " activation_9 (Activation)      (None, 16, 16, 256)  0           ['depthwise_conv2d_4[0][0]']     \n",
      "                                                                                                  \n",
      " activation_5 (Activation)      (None, 16, 16, 256)  0           ['depthwise_conv2d_2[0][0]']     \n",
      "                                                                                                  \n",
      " batch_normalization_9 (BatchNo  (None, 16, 16, 256)  1024       ['activation_9[0][0]']           \n",
      " rmalization)                                                                                     \n",
      "                                                                                                  \n",
      " batch_normalization_5 (BatchNo  (None, 16, 16, 256)  1024       ['activation_5[0][0]']           \n",
      " rmalization)                                                                                     \n",
      "                                                                                                  \n",
      " add_5 (Add)                    (None, 16, 16, 256)  0           ['batch_normalization_9[0][0]',  \n",
      "                                                                  'add_4[0][0]']                  \n",
      "                                                                                                  \n",
      " add_2 (Add)                    (None, 16, 16, 256)  0           ['batch_normalization_5[0][0]',  \n",
      "                                                                  'batch_normalization_4[0][0]']  \n",
      "                                                                                                  \n",
      " conv2d_5 (Conv2D)              (None, 16, 16, 256)  65792       ['add_5[0][0]']                  \n",
      "                                                                                                  \n",
      " conv2d_3 (Conv2D)              (None, 16, 16, 256)  65792       ['add_2[0][0]']                  \n",
      "                                                                                                  \n",
      " activation_10 (Activation)     (None, 16, 16, 256)  0           ['conv2d_5[0][0]']               \n",
      "                                                                                                  \n",
      " activation_6 (Activation)      (None, 16, 16, 256)  0           ['conv2d_3[0][0]']               \n",
      "                                                                                                  \n",
      " batch_normalization_10 (BatchN  (None, 16, 16, 256)  1024       ['activation_10[0][0]']          \n",
      " ormalization)                                                                                    \n",
      "                                                                                                  \n",
      " batch_normalization_6 (BatchNo  (None, 16, 16, 256)  1024       ['activation_6[0][0]']           \n",
      " rmalization)                                                                                     \n",
      "                                                                                                  \n",
      " add_6 (Add)                    (None, 16, 16, 256)  0           ['batch_normalization_2[0][0]',  \n",
      "                                                                  'batch_normalization_10[0][0]'] \n",
      "                                                                                                  \n",
      " add_7 (Add)                    (None, 16, 16, 256)  0           ['batch_normalization_6[0][0]',  \n",
      "                                                                  'add_6[0][0]']                  \n",
      "                                                                                                  \n",
      " depthwise_conv2d_5 (DepthwiseC  (None, 16, 16, 256)  6656       ['add_7[0][0]']                  \n",
      " onv2D)                                                                                           \n",
      "                                                                                                  \n",
      " depthwise_conv2d_3 (DepthwiseC  (None, 16, 16, 256)  6656       ['batch_normalization_6[0][0]']  \n",
      " onv2D)                                                                                           \n",
      "                                                                                                  \n",
      " activation_11 (Activation)     (None, 16, 16, 256)  0           ['depthwise_conv2d_5[0][0]']     \n",
      "                                                                                                  \n",
      " activation_7 (Activation)      (None, 16, 16, 256)  0           ['depthwise_conv2d_3[0][0]']     \n",
      "                                                                                                  \n",
      " batch_normalization_11 (BatchN  (None, 16, 16, 256)  1024       ['activation_11[0][0]']          \n",
      " ormalization)                                                                                    \n",
      "                                                                                                  \n",
      " batch_normalization_7 (BatchNo  (None, 16, 16, 256)  1024       ['activation_7[0][0]']           \n",
      " rmalization)                                                                                     \n",
      "                                                                                                  \n",
      " add_8 (Add)                    (None, 16, 16, 256)  0           ['batch_normalization_11[0][0]', \n",
      "                                                                  'add_7[0][0]']                  \n",
      "                                                                                                  \n",
      " add_3 (Add)                    (None, 16, 16, 256)  0           ['batch_normalization_7[0][0]',  \n",
      "                                                                  'batch_normalization_6[0][0]']  \n",
      "                                                                                                  \n",
      " conv2d_6 (Conv2D)              (None, 16, 16, 256)  65792       ['add_8[0][0]']                  \n",
      "                                                                                                  \n",
      " conv2d_4 (Conv2D)              (None, 16, 16, 256)  65792       ['add_3[0][0]']                  \n",
      "                                                                                                  \n",
      " activation_12 (Activation)     (None, 16, 16, 256)  0           ['conv2d_6[0][0]']               \n",
      "                                                                                                  \n",
      " activation_8 (Activation)      (None, 16, 16, 256)  0           ['conv2d_4[0][0]']               \n",
      "                                                                                                  \n",
      " batch_normalization_12 (BatchN  (None, 16, 16, 256)  1024       ['activation_12[0][0]']          \n",
      " ormalization)                                                                                    \n",
      "                                                                                                  \n",
      " batch_normalization_8 (BatchNo  (None, 16, 16, 256)  1024       ['activation_8[0][0]']           \n",
      " rmalization)                                                                                     \n",
      "                                                                                                  \n",
      " add_9 (Add)                    (None, 16, 16, 256)  0           ['batch_normalization_4[0][0]',  \n",
      "                                                                  'batch_normalization_12[0][0]'] \n",
      "                                                                                                  \n",
      " add_10 (Add)                   (None, 16, 16, 256)  0           ['batch_normalization_8[0][0]',  \n",
      "                                                                  'add_9[0][0]']                  \n",
      "                                                                                                  \n",
      " add_15 (Add)                   (None, 16, 16, 256)  0           ['add_9[0][0]',                  \n",
      "                                                                  'batch_normalization[0][0]']    \n",
      "                                                                                                  \n",
      " depthwise_conv2d_6 (DepthwiseC  (None, 16, 16, 256)  6656       ['add_10[0][0]']                 \n",
      " onv2D)                                                                                           \n",
      "                                                                                                  \n",
      " depthwise_conv2d_8 (DepthwiseC  (None, 16, 16, 256)  6656       ['add_15[0][0]']                 \n",
      " onv2D)                                                                                           \n",
      "                                                                                                  \n",
      " activation_13 (Activation)     (None, 16, 16, 256)  0           ['depthwise_conv2d_6[0][0]']     \n",
      "                                                                                                  \n",
      " activation_17 (Activation)     (None, 16, 16, 256)  0           ['depthwise_conv2d_8[0][0]']     \n",
      "                                                                                                  \n",
      " batch_normalization_13 (BatchN  (None, 16, 16, 256)  1024       ['activation_13[0][0]']          \n",
      " ormalization)                                                                                    \n",
      "                                                                                                  \n",
      " batch_normalization_17 (BatchN  (None, 16, 16, 256)  1024       ['activation_17[0][0]']          \n",
      " ormalization)                                                                                    \n",
      "                                                                                                  \n",
      " add_11 (Add)                   (None, 16, 16, 256)  0           ['batch_normalization_13[0][0]', \n",
      "                                                                  'add_10[0][0]']                 \n",
      "                                                                                                  \n",
      " add_16 (Add)                   (None, 16, 16, 256)  0           ['batch_normalization_17[0][0]', \n",
      "                                                                  'add_15[0][0]']                 \n",
      "                                                                                                  \n",
      " conv2d_7 (Conv2D)              (None, 16, 16, 256)  65792       ['add_11[0][0]']                 \n",
      "                                                                                                  \n",
      " conv2d_9 (Conv2D)              (None, 16, 16, 256)  65792       ['add_16[0][0]']                 \n",
      "                                                                                                  \n",
      " activation_14 (Activation)     (None, 16, 16, 256)  0           ['conv2d_7[0][0]']               \n",
      "                                                                                                  \n",
      " activation_18 (Activation)     (None, 16, 16, 256)  0           ['conv2d_9[0][0]']               \n",
      "                                                                                                  \n",
      " batch_normalization_14 (BatchN  (None, 16, 16, 256)  1024       ['activation_14[0][0]']          \n",
      " ormalization)                                                                                    \n",
      "                                                                                                  \n",
      " batch_normalization_18 (BatchN  (None, 16, 16, 256)  1024       ['activation_18[0][0]']          \n",
      " ormalization)                                                                                    \n",
      "                                                                                                  \n",
      " add_12 (Add)                   (None, 16, 16, 256)  0           ['batch_normalization_6[0][0]',  \n",
      "                                                                  'batch_normalization_14[0][0]'] \n",
      "                                                                                                  \n",
      " add_17 (Add)                   (None, 16, 16, 256)  0           ['add_6[0][0]',                  \n",
      "                                                                  'batch_normalization_18[0][0]'] \n",
      "                                                                                                  \n",
      " add_18 (Add)                   (None, 16, 16, 256)  0           ['add_12[0][0]',                 \n",
      "                                                                  'add_17[0][0]']                 \n",
      "                                                                                                  \n",
      " depthwise_conv2d_7 (DepthwiseC  (None, 16, 16, 256)  6656       ['add_12[0][0]']                 \n",
      " onv2D)                                                                                           \n",
      "                                                                                                  \n",
      " depthwise_conv2d_9 (DepthwiseC  (None, 16, 16, 256)  6656       ['add_18[0][0]']                 \n",
      " onv2D)                                                                                           \n",
      "                                                                                                  \n",
      " activation_15 (Activation)     (None, 16, 16, 256)  0           ['depthwise_conv2d_7[0][0]']     \n",
      "                                                                                                  \n",
      " activation_19 (Activation)     (None, 16, 16, 256)  0           ['depthwise_conv2d_9[0][0]']     \n",
      "                                                                                                  \n",
      " batch_normalization_15 (BatchN  (None, 16, 16, 256)  1024       ['activation_15[0][0]']          \n",
      " ormalization)                                                                                    \n",
      "                                                                                                  \n",
      " batch_normalization_19 (BatchN  (None, 16, 16, 256)  1024       ['activation_19[0][0]']          \n",
      " ormalization)                                                                                    \n",
      "                                                                                                  \n",
      " add_13 (Add)                   (None, 16, 16, 256)  0           ['batch_normalization_15[0][0]', \n",
      "                                                                  'add_12[0][0]']                 \n",
      "                                                                                                  \n",
      " add_19 (Add)                   (None, 16, 16, 256)  0           ['batch_normalization_19[0][0]', \n",
      "                                                                  'add_18[0][0]']                 \n",
      "                                                                                                  \n",
      " conv2d_8 (Conv2D)              (None, 16, 16, 256)  65792       ['add_13[0][0]']                 \n",
      "                                                                                                  \n",
      " conv2d_10 (Conv2D)             (None, 16, 16, 256)  65792       ['add_19[0][0]']                 \n",
      "                                                                                                  \n",
      " activation_16 (Activation)     (None, 16, 16, 256)  0           ['conv2d_8[0][0]']               \n",
      "                                                                                                  \n",
      " activation_20 (Activation)     (None, 16, 16, 256)  0           ['conv2d_10[0][0]']              \n",
      "                                                                                                  \n",
      " batch_normalization_16 (BatchN  (None, 16, 16, 256)  1024       ['activation_16[0][0]']          \n",
      " ormalization)                                                                                    \n",
      "                                                                                                  \n",
      " batch_normalization_20 (BatchN  (None, 16, 16, 256)  1024       ['activation_20[0][0]']          \n",
      " ormalization)                                                                                    \n",
      "                                                                                                  \n",
      " add_14 (Add)                   (None, 16, 16, 256)  0           ['batch_normalization_8[0][0]',  \n",
      "                                                                  'batch_normalization_16[0][0]'] \n",
      "                                                                                                  \n",
      " add_20 (Add)                   (None, 16, 16, 256)  0           ['add_9[0][0]',                  \n",
      "                                                                  'batch_normalization_20[0][0]'] \n",
      "                                                                                                  \n",
      " add_21 (Add)                   (None, 16, 16, 256)  0           ['add_14[0][0]',                 \n",
      "                                                                  'add_20[0][0]']                 \n",
      "                                                                                                  \n",
      " add_26 (Add)                   (None, 16, 16, 256)  0           ['add_20[0][0]',                 \n",
      "                                                                  'batch_normalization[0][0]']    \n",
      "                                                                                                  \n",
      " depthwise_conv2d_10 (Depthwise  (None, 16, 16, 256)  6656       ['add_21[0][0]']                 \n",
      " Conv2D)                                                                                          \n",
      "                                                                                                  \n",
      " depthwise_conv2d_12 (Depthwise  (None, 16, 16, 256)  6656       ['add_26[0][0]']                 \n",
      " Conv2D)                                                                                          \n",
      "                                                                                                  \n",
      " activation_21 (Activation)     (None, 16, 16, 256)  0           ['depthwise_conv2d_10[0][0]']    \n",
      "                                                                                                  \n",
      " activation_25 (Activation)     (None, 16, 16, 256)  0           ['depthwise_conv2d_12[0][0]']    \n",
      "                                                                                                  \n",
      " batch_normalization_21 (BatchN  (None, 16, 16, 256)  1024       ['activation_21[0][0]']          \n",
      " ormalization)                                                                                    \n",
      "                                                                                                  \n",
      " batch_normalization_25 (BatchN  (None, 16, 16, 256)  1024       ['activation_25[0][0]']          \n",
      " ormalization)                                                                                    \n",
      "                                                                                                  \n",
      " add_22 (Add)                   (None, 16, 16, 256)  0           ['batch_normalization_21[0][0]', \n",
      "                                                                  'add_21[0][0]']                 \n",
      "                                                                                                  \n",
      " add_27 (Add)                   (None, 16, 16, 256)  0           ['batch_normalization_25[0][0]', \n",
      "                                                                  'add_26[0][0]']                 \n",
      "                                                                                                  \n",
      " conv2d_11 (Conv2D)             (None, 16, 16, 256)  65792       ['add_22[0][0]']                 \n",
      "                                                                                                  \n",
      " conv2d_13 (Conv2D)             (None, 16, 16, 256)  65792       ['add_27[0][0]']                 \n",
      "                                                                                                  \n",
      " activation_22 (Activation)     (None, 16, 16, 256)  0           ['conv2d_11[0][0]']              \n",
      "                                                                                                  \n",
      " activation_26 (Activation)     (None, 16, 16, 256)  0           ['conv2d_13[0][0]']              \n",
      "                                                                                                  \n",
      " batch_normalization_22 (BatchN  (None, 16, 16, 256)  1024       ['activation_22[0][0]']          \n",
      " ormalization)                                                                                    \n",
      "                                                                                                  \n",
      " batch_normalization_26 (BatchN  (None, 16, 16, 256)  1024       ['activation_26[0][0]']          \n",
      " ormalization)                                                                                    \n",
      "                                                                                                  \n",
      " add_23 (Add)                   (None, 16, 16, 256)  0           ['add_12[0][0]',                 \n",
      "                                                                  'batch_normalization_22[0][0]'] \n",
      "                                                                                                  \n",
      " add_28 (Add)                   (None, 16, 16, 256)  0           ['add_17[0][0]',                 \n",
      "                                                                  'batch_normalization_26[0][0]'] \n",
      "                                                                                                  \n",
      " add_29 (Add)                   (None, 16, 16, 256)  0           ['add_23[0][0]',                 \n",
      "                                                                  'add_28[0][0]']                 \n",
      "                                                                                                  \n",
      " depthwise_conv2d_11 (Depthwise  (None, 16, 16, 256)  6656       ['add_23[0][0]']                 \n",
      " Conv2D)                                                                                          \n",
      "                                                                                                  \n",
      " depthwise_conv2d_13 (Depthwise  (None, 16, 16, 256)  6656       ['add_29[0][0]']                 \n",
      " Conv2D)                                                                                          \n",
      "                                                                                                  \n",
      " activation_23 (Activation)     (None, 16, 16, 256)  0           ['depthwise_conv2d_11[0][0]']    \n",
      "                                                                                                  \n",
      " activation_27 (Activation)     (None, 16, 16, 256)  0           ['depthwise_conv2d_13[0][0]']    \n",
      "                                                                                                  \n",
      " batch_normalization_23 (BatchN  (None, 16, 16, 256)  1024       ['activation_23[0][0]']          \n",
      " ormalization)                                                                                    \n",
      "                                                                                                  \n",
      " batch_normalization_27 (BatchN  (None, 16, 16, 256)  1024       ['activation_27[0][0]']          \n",
      " ormalization)                                                                                    \n",
      "                                                                                                  \n",
      " add_24 (Add)                   (None, 16, 16, 256)  0           ['batch_normalization_23[0][0]', \n",
      "                                                                  'add_23[0][0]']                 \n",
      "                                                                                                  \n",
      " add_30 (Add)                   (None, 16, 16, 256)  0           ['batch_normalization_27[0][0]', \n",
      "                                                                  'add_29[0][0]']                 \n",
      "                                                                                                  \n",
      " conv2d_12 (Conv2D)             (None, 16, 16, 256)  65792       ['add_24[0][0]']                 \n",
      "                                                                                                  \n",
      " conv2d_14 (Conv2D)             (None, 16, 16, 256)  65792       ['add_30[0][0]']                 \n",
      "                                                                                                  \n",
      " activation_24 (Activation)     (None, 16, 16, 256)  0           ['conv2d_12[0][0]']              \n",
      "                                                                                                  \n",
      " activation_28 (Activation)     (None, 16, 16, 256)  0           ['conv2d_14[0][0]']              \n",
      "                                                                                                  \n",
      " batch_normalization_24 (BatchN  (None, 16, 16, 256)  1024       ['activation_24[0][0]']          \n",
      " ormalization)                                                                                    \n",
      "                                                                                                  \n",
      " batch_normalization_28 (BatchN  (None, 16, 16, 256)  1024       ['activation_28[0][0]']          \n",
      " ormalization)                                                                                    \n",
      "                                                                                                  \n",
      " add_25 (Add)                   (None, 16, 16, 256)  0           ['add_14[0][0]',                 \n",
      "                                                                  'batch_normalization_24[0][0]'] \n",
      "                                                                                                  \n",
      " add_31 (Add)                   (None, 16, 16, 256)  0           ['add_20[0][0]',                 \n",
      "                                                                  'batch_normalization_28[0][0]'] \n",
      "                                                                                                  \n",
      " add_32 (Add)                   (None, 16, 16, 256)  0           ['add_25[0][0]',                 \n",
      "                                                                  'add_31[0][0]']                 \n",
      "                                                                                                  \n",
      " depthwise_conv2d_14 (Depthwise  (None, 16, 16, 256)  6656       ['add_32[0][0]']                 \n",
      " Conv2D)                                                                                          \n",
      "                                                                                                  \n",
      " activation_29 (Activation)     (None, 16, 16, 256)  0           ['depthwise_conv2d_14[0][0]']    \n",
      "                                                                                                  \n",
      " batch_normalization_29 (BatchN  (None, 16, 16, 256)  1024       ['activation_29[0][0]']          \n",
      " ormalization)                                                                                    \n",
      "                                                                                                  \n",
      " add_33 (Add)                   (None, 16, 16, 256)  0           ['batch_normalization_29[0][0]', \n",
      "                                                                  'add_32[0][0]']                 \n",
      "                                                                                                  \n",
      " conv2d_15 (Conv2D)             (None, 16, 16, 256)  65792       ['add_33[0][0]']                 \n",
      "                                                                                                  \n",
      " activation_30 (Activation)     (None, 16, 16, 256)  0           ['conv2d_15[0][0]']              \n",
      "                                                                                                  \n",
      " batch_normalization_30 (BatchN  (None, 16, 16, 256)  1024       ['activation_30[0][0]']          \n",
      " ormalization)                                                                                    \n",
      "                                                                                                  \n",
      " add_34 (Add)                   (None, 16, 16, 256)  0           ['add_23[0][0]',                 \n",
      "                                                                  'batch_normalization_30[0][0]'] \n",
      "                                                                                                  \n",
      " depthwise_conv2d_15 (Depthwise  (None, 16, 16, 256)  6656       ['add_34[0][0]']                 \n",
      " Conv2D)                                                                                          \n",
      "                                                                                                  \n",
      " activation_31 (Activation)     (None, 16, 16, 256)  0           ['depthwise_conv2d_15[0][0]']    \n",
      "                                                                                                  \n",
      " batch_normalization_31 (BatchN  (None, 16, 16, 256)  1024       ['activation_31[0][0]']          \n",
      " ormalization)                                                                                    \n",
      "                                                                                                  \n",
      " add_35 (Add)                   (None, 16, 16, 256)  0           ['batch_normalization_31[0][0]', \n",
      "                                                                  'add_34[0][0]']                 \n",
      "                                                                                                  \n",
      " conv2d_16 (Conv2D)             (None, 16, 16, 256)  65792       ['add_35[0][0]']                 \n",
      "                                                                                                  \n",
      " activation_32 (Activation)     (None, 16, 16, 256)  0           ['conv2d_16[0][0]']              \n",
      "                                                                                                  \n",
      " batch_normalization_32 (BatchN  (None, 16, 16, 256)  1024       ['activation_32[0][0]']          \n",
      " ormalization)                                                                                    \n",
      "                                                                                                  \n",
      " add_36 (Add)                   (None, 16, 16, 256)  0           ['add_25[0][0]',                 \n",
      "                                                                  'batch_normalization_32[0][0]'] \n",
      "                                                                                                  \n",
      " global_average_pooling2d (Glob  (None, 256)         0           ['add_36[0][0]']                 \n",
      " alAveragePooling2D)                                                                              \n",
      "                                                                                                  \n",
      " dense (Dense)                  (None, 3)            771         ['global_average_pooling2d[0][0]'\n",
      "                                                                 ]                                \n",
      "                                                                                                  \n",
      "==================================================================================================\n",
      "Total params: 1,783,811\n",
      "Trainable params: 1,766,915\n",
      "Non-trainable params: 16,896\n",
      "__________________________________________________________________________________________________\n"
     ]
    }
   ],
   "source": [
    "model = load_siren()\n",
    "model.summary()"
   ]
  },
  {
   "cell_type": "code",
   "execution_count": 21,
   "metadata": {},
   "outputs": [
    {
     "name": "stdout",
     "output_type": "stream",
     "text": [
      "Epoch 1/20\n"
     ]
    },
    {
     "name": "stderr",
     "output_type": "stream",
     "text": [
      "2023-09-20 16:05:10.314377: I tensorflow/core/common_runtime/executor.cc:1197] [/device:CPU:0] (DEBUG INFO) Executor start aborting (this does not indicate an error and you can ignore this message): INVALID_ARGUMENT: You must feed a value for placeholder tensor 'Placeholder/_0' with dtype float and shape [14,256,256,9]\n",
      "\t [[{{node Placeholder/_0}}]]\n",
      "2023-09-20 16:05:10.314874: I tensorflow/core/common_runtime/executor.cc:1197] [/device:CPU:0] (DEBUG INFO) Executor start aborting (this does not indicate an error and you can ignore this message): INVALID_ARGUMENT: You must feed a value for placeholder tensor 'Placeholder/_0' with dtype float and shape [14,256,256,9]\n",
      "\t [[{{node Placeholder/_0}}]]\n",
      "2023-09-20 16:05:18.414215: I tensorflow/compiler/xla/stream_executor/cuda/cuda_dnn.cc:424] Loaded cuDNN version 8600\n"
     ]
    },
    {
     "name": "stdout",
     "output_type": "stream",
     "text": [
      "2/2 [==============================] - ETA: 0s - loss: 2.0600 - accuracy: 0.4286"
     ]
    },
    {
     "name": "stderr",
     "output_type": "stream",
     "text": [
      "2023-09-20 16:05:19.422022: I tensorflow/core/common_runtime/executor.cc:1197] [/device:CPU:0] (DEBUG INFO) Executor start aborting (this does not indicate an error and you can ignore this message): INVALID_ARGUMENT: You must feed a value for placeholder tensor 'Placeholder/_1' with dtype float and shape [3,3]\n",
      "\t [[{{node Placeholder/_1}}]]\n"
     ]
    },
    {
     "name": "stdout",
     "output_type": "stream",
     "text": [
      "2/2 [==============================] - 10s 1s/step - loss: 2.0600 - accuracy: 0.4286 - val_loss: 1.6038 - val_accuracy: 0.0000e+00\n",
      "Epoch 2/20\n",
      "2/2 [==============================] - 0s 58ms/step - loss: 2.2935 - accuracy: 0.3571 - val_loss: 2.9840 - val_accuracy: 0.0000e+00\n",
      "Epoch 3/20\n",
      "2/2 [==============================] - 0s 56ms/step - loss: 2.4571 - accuracy: 0.3571 - val_loss: 5.0043 - val_accuracy: 0.0000e+00\n",
      "Epoch 4/20\n",
      "2/2 [==============================] - 0s 58ms/step - loss: 3.6000 - accuracy: 0.2857 - val_loss: 5.7370 - val_accuracy: 0.3333\n",
      "Epoch 5/20\n",
      "2/2 [==============================] - 0s 58ms/step - loss: 1.0815 - accuracy: 0.5000 - val_loss: 7.4928 - val_accuracy: 0.0000e+00\n",
      "Epoch 6/20\n",
      "2/2 [==============================] - 0s 58ms/step - loss: 3.3656 - accuracy: 0.5000 - val_loss: 11.7025 - val_accuracy: 0.0000e+00\n",
      "Epoch 7/20\n",
      "2/2 [==============================] - 0s 58ms/step - loss: 2.5746 - accuracy: 0.3571 - val_loss: 12.3969 - val_accuracy: 0.0000e+00\n",
      "Epoch 8/20\n",
      "2/2 [==============================] - 0s 60ms/step - loss: 0.9133 - accuracy: 0.5000 - val_loss: 11.0697 - val_accuracy: 0.0000e+00\n",
      "Epoch 9/20\n",
      "2/2 [==============================] - 0s 53ms/step - loss: 0.9274 - accuracy: 0.6429 - val_loss: 9.3095 - val_accuracy: 0.0000e+00\n",
      "Epoch 10/20\n",
      "2/2 [==============================] - 0s 63ms/step - loss: 1.6918 - accuracy: 0.5714 - val_loss: 9.1394 - val_accuracy: 0.0000e+00\n",
      "Epoch 11/20\n",
      "2/2 [==============================] - 0s 57ms/step - loss: 1.1833 - accuracy: 0.5714 - val_loss: 8.4270 - val_accuracy: 0.0000e+00\n",
      "Epoch 12/20\n",
      "2/2 [==============================] - 0s 57ms/step - loss: 1.7598 - accuracy: 0.5000 - val_loss: 6.1051 - val_accuracy: 0.0000e+00\n",
      "Epoch 13/20\n",
      "2/2 [==============================] - 0s 55ms/step - loss: 0.6746 - accuracy: 0.7143 - val_loss: 4.4827 - val_accuracy: 0.3333\n",
      "Epoch 14/20\n",
      "2/2 [==============================] - 0s 59ms/step - loss: 0.4996 - accuracy: 0.7857 - val_loss: 3.8292 - val_accuracy: 0.3333\n",
      "Epoch 15/20\n",
      "2/2 [==============================] - 0s 55ms/step - loss: 3.1471 - accuracy: 0.5000 - val_loss: 3.1466 - val_accuracy: 0.3333\n",
      "Epoch 16/20\n",
      "2/2 [==============================] - 0s 64ms/step - loss: 0.9026 - accuracy: 0.7143 - val_loss: 2.8498 - val_accuracy: 0.3333\n",
      "Epoch 17/20\n",
      "2/2 [==============================] - 0s 57ms/step - loss: 1.1082 - accuracy: 0.5714 - val_loss: 2.8632 - val_accuracy: 0.0000e+00\n",
      "Epoch 18/20\n",
      "2/2 [==============================] - 0s 58ms/step - loss: 0.7943 - accuracy: 0.6429 - val_loss: 3.3005 - val_accuracy: 0.0000e+00\n",
      "Epoch 19/20\n",
      "2/2 [==============================] - 0s 54ms/step - loss: 1.0501 - accuracy: 0.5714 - val_loss: 3.9218 - val_accuracy: 0.0000e+00\n",
      "Epoch 20/20\n",
      "2/2 [==============================] - 0s 58ms/step - loss: 1.0012 - accuracy: 0.7143 - val_loss: 4.0972 - val_accuracy: 0.0000e+00\n",
      "1/1 [==============================] - 0s 29ms/step - loss: 2.6185 - accuracy: 0.3333\n",
      "Test accuracy: 33.33%\n"
     ]
    },
    {
     "name": "stderr",
     "output_type": "stream",
     "text": [
      "2023-09-20 16:05:23.710682: I tensorflow/core/common_runtime/executor.cc:1197] [/device:CPU:0] (DEBUG INFO) Executor start aborting (this does not indicate an error and you can ignore this message): INVALID_ARGUMENT: You must feed a value for placeholder tensor 'Placeholder/_1' with dtype float and shape [3,3]\n",
      "\t [[{{node Placeholder/_1}}]]\n"
     ]
    }
   ],
   "source": [
    "history, model = launch_experiment(model)"
   ]
  },
  {
   "cell_type": "code",
   "execution_count": 22,
   "metadata": {},
   "outputs": [],
   "source": [
    "model.save(model_save_path)"
   ]
  },
  {
   "cell_type": "code",
   "execution_count": 23,
   "metadata": {},
   "outputs": [
    {
     "name": "stdout",
     "output_type": "stream",
     "text": [
      "1/1 [==============================] - 1s 864ms/step\n"
     ]
    }
   ],
   "source": [
    "pred = model.predict(test_ds)"
   ]
  },
  {
   "cell_type": "code",
   "execution_count": 24,
   "metadata": {},
   "outputs": [],
   "source": [
    "# ============================== generate data ==============================\n",
    "import os\n",
    "import numpy as np\n",
    "import matplotlib.pyplot as plt\n",
    "from scipy import interp\n",
    "from itertools import cycle\n",
    "from sklearn.metrics import roc_curve, auc\n",
    "from sklearn.metrics import classification_report\n",
    "from sklearn.metrics import PredictionErrorDisplay\n",
    "from sklearn import metrics\n",
    "import tensorflow as tf\n",
    "from tensorflow import keras as k"
   ]
  },
  {
   "cell_type": "code",
   "execution_count": 25,
   "metadata": {},
   "outputs": [
    {
     "data": {
      "image/png": "[encoded data removed]",
      "text/plain": [
       "<Figure size 640x480 with 1 Axes>"
      ]
     },
     "metadata": {},
     "output_type": "display_data"
    }
   ],
   "source": [
    "plt.plot(history.history[\"loss\"])\n",
    "plt.plot(history.history[\"val_loss\"])\n",
    "plt.title(\"model loss\")\n",
    "plt.ylabel(\"loss\")\n",
    "plt.xlabel(\"epoch\")\n",
    "plt.legend([\"train\", \"val\"], loc=\"upper left\")\n",
    "plt.show()"
   ]
  },
  {
   "cell_type": "code",
   "execution_count": 26,
   "metadata": {},
   "outputs": [
    {
     "data": {
      "image/png": "[encoded data removed]",
      "text/plain": [
       "<Figure size 640x480 with 1 Axes>"
      ]
     },
     "metadata": {},
     "output_type": "display_data"
    }
   ],
   "source": [
    "plt.plot(history.history[\"accuracy\"])\n",
    "plt.plot(history.history[\"val_accuracy\"])\n",
    "plt.title(\"model accuracy\")\n",
    "plt.ylabel(\"accuracy\")\n",
    "plt.xlabel(\"epoch\")\n",
    "plt.legend([\"train\", \"val\"], loc=\"upper left\")\n",
    "plt.show()"
   ]
  },
  {
   "cell_type": "code",
   "execution_count": 27,
   "metadata": {},
   "outputs": [
    {
     "name": "stdout",
     "output_type": "stream",
     "text": [
      "1/1 [==============================] - 0s 16ms/step\n"
     ]
    },
    {
     "name": "stderr",
     "output_type": "stream",
     "text": [
      "/tmp/ipykernel_4158846/1739064555.py:27: DeprecationWarning: scipy.interp is deprecated and will be removed in SciPy 2.0.0, use numpy.interp instead\n",
      "  mean_tpr += interp(all_fpr, fpr[i], tpr[i])\n"
     ]
    },
    {
     "data": {
      "image/png": "[encoded data removed]",
      "text/plain": [
       "<Figure size 640x480 with 1 Axes>"
      ]
     },
     "metadata": {},
     "output_type": "display_data"
    }
   ],
   "source": [
    "x_test = test_ds\n",
    "y_test = labels_test\n",
    "y_score = model.predict(x_test)\n",
    "y_test = y_test\n",
    "\n",
    "n_classes = num_classes\n",
    "# Plot linewidth.\n",
    "lw = 2\n",
    "# Compute ROC curve and ROC area for each class\n",
    "fpr = dict()\n",
    "tpr = dict()\n",
    "roc_auc = dict()\n",
    "for i in range(n_classes):\n",
    "    fpr[i], tpr[i], _ = roc_curve(y_test[:, i], y_score[:, i])\n",
    "    roc_auc[i] = auc(fpr[i], tpr[i])\n",
    "\n",
    "# Compute micro-average ROC curve and ROC area\n",
    "fpr[\"micro\"], tpr[\"micro\"], _ = roc_curve(y_test.ravel(), y_score.ravel())\n",
    "roc_auc[\"micro\"] = auc(fpr[\"micro\"], tpr[\"micro\"])\n",
    "\n",
    "# First aggregate all false positive rates\n",
    "all_fpr = np.unique(np.concatenate([fpr[i] for i in range(n_classes)]))\n",
    "\n",
    "# Then interpolate all ROC curves at this points\n",
    "mean_tpr = np.zeros_like(all_fpr)\n",
    "for i in range(n_classes):\n",
    "    mean_tpr += interp(all_fpr, fpr[i], tpr[i])\n",
    "\n",
    "# Finally average it and compute AUC\n",
    "mean_tpr /= n_classes\n",
    "\n",
    "fpr[\"macro\"] = all_fpr\n",
    "tpr[\"macro\"] = mean_tpr\n",
    "roc_auc[\"macro\"] = auc(fpr[\"macro\"], tpr[\"macro\"])\n",
    "\n",
    "# Plot all ROC curves\n",
    "plt.figure(1)\n",
    "plt.plot(\n",
    "    fpr[\"micro\"],\n",
    "    tpr[\"micro\"],\n",
    "    label=\"micro-average ROC curve (area = {0:0.2f})\" \"\".format(roc_auc[\"micro\"]),\n",
    "    color=\"deeppink\",\n",
    "    linestyle=\":\",\n",
    "    linewidth=4,\n",
    ")\n",
    "\n",
    "plt.plot(\n",
    "    fpr[\"macro\"],\n",
    "    tpr[\"macro\"],\n",
    "    label=\"macro-average ROC curve (area = {0:0.2f})\" \"\".format(roc_auc[\"macro\"]),\n",
    "    color=\"navy\",\n",
    "    linestyle=\":\",\n",
    "    linewidth=4,\n",
    ")\n",
    "\n",
    "colors = cycle([\"aqua\", \"darkorange\", \"cornflowerblue\"])\n",
    "for i, color in zip(range(n_classes), colors):\n",
    "    plt.plot(\n",
    "        fpr[i],\n",
    "        tpr[i],\n",
    "        color=color,\n",
    "        lw=lw,\n",
    "        label=\"ROC curve of class {0} (area = {1:0.2f})\" \"\".format(i, roc_auc[i]),\n",
    "    )\n",
    "\n",
    "plt.plot([0, 1], [0, 1], \"k--\", lw=lw)\n",
    "plt.xlim([0.0, 1.0])\n",
    "plt.ylim([0.0, 1.05])\n",
    "plt.xlabel(\"False Positive Rate\")\n",
    "plt.ylabel(\"True Positive Rate\")\n",
    "plt.title(\"Receiver operating characteristic multi-class\")\n",
    "plt.legend(loc=\"lower right\")\n",
    "plt.show()"
   ]
  },
  {
   "cell_type": "code",
   "execution_count": 28,
   "metadata": {},
   "outputs": [
    {
     "name": "stdout",
     "output_type": "stream",
     "text": [
      "[[1 0 0]\n",
      " [1 0 0]\n",
      " [1 0 0]]\n",
      "              precision    recall  f1-score   support\n",
      "\n",
      "           0       0.33      1.00      0.50         1\n",
      "           1       0.00      0.00      0.00         1\n",
      "           2       0.00      0.00      0.00         1\n",
      "\n",
      "    accuracy                           0.33         3\n",
      "   macro avg       0.11      0.33      0.17         3\n",
      "weighted avg       0.11      0.33      0.17         3\n",
      "\n"
     ]
    },
    {
     "name": "stderr",
     "output_type": "stream",
     "text": [
      "/home/user/.conda/envs/tf/lib/python3.9/site-packages/sklearn/metrics/_classification.py:1469: UndefinedMetricWarning: Precision and F-score are ill-defined and being set to 0.0 in labels with no predicted samples. Use `zero_division` parameter to control this behavior.\n",
      "  _warn_prf(average, modifier, msg_start, len(result))\n",
      "/home/user/.conda/envs/tf/lib/python3.9/site-packages/sklearn/metrics/_classification.py:1469: UndefinedMetricWarning: Precision and F-score are ill-defined and being set to 0.0 in labels with no predicted samples. Use `zero_division` parameter to control this behavior.\n",
      "  _warn_prf(average, modifier, msg_start, len(result))\n",
      "/home/user/.conda/envs/tf/lib/python3.9/site-packages/sklearn/metrics/_classification.py:1469: UndefinedMetricWarning: Precision and F-score are ill-defined and being set to 0.0 in labels with no predicted samples. Use `zero_division` parameter to control this behavior.\n",
      "  _warn_prf(average, modifier, msg_start, len(result))\n"
     ]
    }
   ],
   "source": [
    "y_classes = np.argmax(y_score, axis=1)\n",
    "labels_test_f1 = np.argmax(y_test, axis=1)\n",
    "\n",
    "print(metrics.confusion_matrix(labels_test_f1, y_classes))\n",
    "print(classification_report(labels_test_f1, y_classes))"
   ]
  },
  {
   "cell_type": "code",
   "execution_count": 29,
   "metadata": {},
   "outputs": [
    {
     "name": "stdout",
     "output_type": "stream",
     "text": [
      "AUC:  0.5\n"
     ]
    }
   ],
   "source": [
    "fpr, tpr, thresholds = metrics.roc_curve(labels_test_f1, y_classes, pos_label=2)\n",
    "print(\"AUC: \", metrics.auc(fpr, tpr))"
   ]
  },
  {
   "cell_type": "code",
   "execution_count": null,
   "metadata": {},
   "outputs": [],
   "source": []
  }
 ],
 "metadata": {
  "kernelspec": {
   "display_name": "Python 3 (ipykernel)",
   "language": "python",
   "name": "python3"
  },
  "language_info": {
   "codemirror_mode": {
    "name": "ipython",
    "version": 3
   },
   "file_extension": ".py",
   "mimetype": "text/x-python",
   "name": "python",
   "nbconvert_exporter": "python",
   "pygments_lexer": "ipython3",
   "version": "3.9.17"
  },
  "orig_nbformat": 4
 },
 "nbformat": 4,
 "nbformat_minor": 2
}
